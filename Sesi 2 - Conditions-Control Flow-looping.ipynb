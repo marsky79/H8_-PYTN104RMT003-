{
 "cells": [
  {
   "cell_type": "markdown",
   "id": "fbd429d7-3f72-495a-a9e6-c907a3e7fdfc",
   "metadata": {},
   "source": [
    "Conditional\n",
    "\n",
    "Python mendukung logical conditions yang biasa dipakai dalam matematika:\n",
    "   ▪ Not Equals: a != b\n",
    "   ▪ Less than:a a < b\n",
    "   ▪ Less than or equal to: a <= b\n",
    "   ▪ Greater than: a > b\n",
    "   ▪ Greater than or equal to: a >= b\n",
    "   ▪ These conditions can be used in several ways, most commonly in \"if statements\" and loops.\n",
    "\n",
    "Sebuah \"if statement\" ditulis dengan menggunakan if keyword.\n",
    "\n",
    "Dalam program Python, if statement adalah bagaimana kalian melakukan decision-making. If statement memungkinkan eksejusi kondisional dari pernyataan atau kelompok pernyataan berdasarkan nilai ekspresi.\n"
   ]
  },
  {
   "cell_type": "markdown",
   "id": "e9df66a5-7f1d-4788-9b32-7eead12be593",
   "metadata": {},
   "source": [
    "Introduction To The if statement\n",
    "\n",
    "Kita akan mulai dengan melihat tipe pernyataan if yang paling dasar. Dalam bentuknya yang paling sederhana, terlihat seperti ini:"
   ]
  },
  {
   "cell_type": "raw",
   "id": "c9b83288-2d5b-484b-baaa-dc9ca0fef166",
   "metadata": {},
   "source": [
    "if <expr>:\n",
    "    <statement>"
   ]
  },
  {
   "cell_type": "markdown",
   "id": "3bd52103-ff62-44ce-8b17-b6da9a102607",
   "metadata": {},
   "source": [
    "Pada bentuk yang ditampilkan diatas:\n",
    "\n",
    "   ▪ <expr> is an expression evaluated in Boolean context.\n",
    "   ▪ <statement> is a valid Python statement, which must be indented.\n",
    "\n",
    "Jika <exor> benar (mengevaluasi ke nilai \"truthy\"), maka <statement> akan dieksekusi. Jika <expr> salah, maka <statement> dilewati dan tidak di eksekusi.\n",
    "\n",
    "Perhatikan bahwa titik dua (:) setelah <expr> diperlukan. Beberapa bahasa pemrograman mengharuskan <expr> diapit tanda kurung, tetapi Python tidak."
   ]
  },
  {
   "cell_type": "code",
   "execution_count": null,
   "id": "4f3de2d7-55da-4545-bddb-9a3bb2716a54",
   "metadata": {},
   "outputs": [],
   "source": [
    "x = 0\n",
    "y = 5\n",
    "\n",
    "if x < y: #Truthy\n",
    "    print('yes')\n",
    "\n",
    "if y < x: #Falsy\n",
    "    print('yes')\n",
    "\n",
    "if x: #Falsy\n",
    "    print('yes')\n",
    "\n",
    "if y: #Truthy\n",
    "    print('yes')\n",
    "\n",
    "if 'aul' in 'grault': #Truthy\n",
    "    print('yes')\n",
    "\n",
    "if 'quux' in ['foo', 'bar', 'baz']: #Falsy\n",
    "    print('yes')\n",
    "\n"
   ]
  },
  {
   "cell_type": "markdown",
   "id": "6b851548-d0ba-4ec1-a536-2b2d4ac1c932",
   "metadata": {},
   "source": [
    "Grouping Statements: Indentation and Blocks\n",
    "\n",
    "So far, so goood.\n",
    "\n",
    "Tetapi katakanlah kalian ingin mengevaluasi suau kondisi dan kemudia melakukan lebih dari satu hal jika itu benar:\n",
    "\n",
    "If the weather is nice, then i will:\n",
    "\n",
    "   ▪ Mow the lawn\n",
    "   ▪ weed the garden\n",
    "   ▪ Take the dog for a walk\n",
    "\n",
    "(If the weather isn't nice, then i won'tdo any of these things.)\n",
    "\n",
    "Dalam semua contoh yang ditampilkan di atas, masing-masing jika <expr>: hanya diikuti oleh satu <statement>. Perlu ada cara untuk mengatakan \"jika <expr> benar, lakukan semua hall berikut\".\n",
    "\n",
    "Pendekatan yang biasa diambil oleh sebagian besar bahasa pemrograman adalah dengan mendefinisikan syntatic device yang mengelompokkan beberapa pernyataan menjadi satu pertanyaan atau blok. Sebuah blok dianggap secara sintaksis sebagai satu kesatuan. Ketika blok tersebut adalah target dari if, dan <expr> adalah benar, maka semua pernyataan di blok akan dieksekusi. Jika <expr> salah, maka tidak ada satupun yang dieksekusi.\n",
    "\n",
    "Hampir semua bahasa pemrograman menyediakan kemampuan untuk mendefinisikan blocks, tetapi tida semuanya menyediakammya dengan cara yang sama. Mari kita kihat bagaimana Python melakukannya.\n",
    "\n",
    "Python: It's All About the Indentation\n",
    "\n",
    "Python mengikuti konvensi yang dikenal sebagai off-side rule, istilah yang diciptakan oleh ilmuwan komputer inggris Peter J. Landin (Istilah ini diambil dari offside dalam sepak bola). Bahasa yang mengikuti off-side rule akan mendefinisikan blok dengan indentasi. Python adalah salah satu sekumpulan kecil bahasa off-side rule.\n",
    "\n",
    "Indentasi digunakan untuk mendefinisikan pernyataan atau blok. Dalam program Python, pernyataan yang manjorok ke tingkat yang sama dianggap sbg bagian dari blok yang sama.\n",
    "\n",
    "Jadi, pernyataan majemuk if dengan Python terlihat seperti ini:"
   ]
  },
  {
   "cell_type": "raw",
   "id": "299e3a88-9ac9-4025-8e36-e97b242fde98",
   "metadata": {},
   "source": [
    "if <expr>:\n",
    "    <statement>\n",
    "    <statement>\n",
    "    ...\n",
    "    <statement>\n",
    "<following_statement>"
   ]
  },
  {
   "cell_type": "markdown",
   "id": "98f5bca6-043d-4117-bc78-268e3df3632a",
   "metadata": {},
   "source": [
    "Disini, semua pernyataan pada tingkat indentasi yang cocok (baris 2 hingga 5) dianggap sebagai bagian dari blok yang sama. Seluruh blok dijalankan juka <expr> benar, atau dilewati jika <expr> salah. Apa pun itu, eksekusi dilanjutkan dengan <following_statement> (baris 6) sesudahnya."
   ]
  },
  {
   "cell_type": "markdown",
   "id": "4cc5bdfe-c910-4317-8534-05f382a0f27d",
   "metadata": {},
   "source": [
    "Perhatikan bahwa tidak ada token yang menunjukkan akhir blok. Sebaliknya, ujung blok ditunjukkan dengan garis yang indentasinya kurang dari garis blok itu sendiri."
   ]
  },
  {
   "cell_type": "code",
   "execution_count": 5,
   "id": "7bf81ac0-e943-468a-b111-32a1831a44fe",
   "metadata": {},
   "outputs": [
    {
     "name": "stdout",
     "output_type": "stream",
     "text": [
      "After conditional\n"
     ]
    }
   ],
   "source": [
    "if 'foo' in ['bar', 'baz', 'qux']:\n",
    "    print('Expression was true')\n",
    "    print('Executing statement in suite')\n",
    "    print('...')\n",
    "    print('Done.')\n",
    "\n",
    "print('After conditional')"
   ]
  },
  {
   "cell_type": "markdown",
   "id": "a7e43499-71c8-471a-9e18-24a7c0c031d7",
   "metadata": {},
   "source": [
    "Empat pernyataan print() pada baris 2 hingga 5 menjorok ke tingkat yang sama satu sama lain. Mereka merupakan blok yang akan dieksekusi jika kondisinya benar. Tapi itu salah, jadi semua pernyataan dalam blok pada baris 2 sampai 5 dieksekusi atau tidak), eksekusi dilanjutkan ke pernyataan pertama yang memiliki print() pada baris 6.\n",
    "\n",
    "Blok dapat di nest hingga kedalaman berapapun. Setiap indentasi mendefinisikan blok baru, dan setiap outdent mengakhiri blok sebelumnya. Hasilnya, struktur yang dihasilkan sangat jelas, konsisten, dan intuitif.\n",
    "\n",
    "Berikut ini skrip yang lebih rumit:"
   ]
  },
  {
   "cell_type": "code",
   "execution_count": 6,
   "id": "5c0f8461-10b9-4c64-a397-160875b87406",
   "metadata": {},
   "outputs": [
    {
     "name": "stdout",
     "output_type": "stream",
     "text": [
      "Outer condition is true\n",
      "Between inner condition\n",
      "Inner condition 2\n",
      "End of outer condition\n",
      "After outer condition\n"
     ]
    }
   ],
   "source": [
    "# Does line execute?                       YES     NO\n",
    "#                                          ---    ---\n",
    "if 'foo' in ['foo', 'bar', 'baz']:       #  X\n",
    "    print('Outer condition is true')     #  X\n",
    "\n",
    "    if 10 > 20:                          #  X\n",
    "        print('Inner condition 1')       #         X\n",
    "\n",
    "    print('Between inner condition')     #  X\n",
    "\n",
    "    if 10 < 20:                          #  X\n",
    "        print('Inner condition 2')       #  X\n",
    "\n",
    "    print('End of outer condition')      #  X\n",
    "print('After outer condition')           #  X"
   ]
  },
  {
   "cell_type": "markdown",
   "id": "882cb638-c660-4237-94dc-d66a32e23c94",
   "metadata": {},
   "source": [
    "The else and elif Clauses\n",
    "\n",
    "Sekarang kalian tahu cara menggunakan pernyataan if untuk mengeksekusi pernyataan tunggal atau blok dari beberapa statement. Saatnya mencari tahu ap lagi yang bisa kalian dilakukan.\n",
    "\n",
    "Terkadang, kalian ingin mengevaluasi suatu kondisi dan mengambil satu jalur jika benar, tetapi menentukan jalur alternatif jika tidak benar. Ini dapat melakukan dengan klausa else:"
   ]
  },
  {
   "cell_type": "code",
   "execution_count": 9,
   "id": "21b3068a-a45d-47c7-bdba-1fa9c8909bc1",
   "metadata": {},
   "outputs": [
    {
     "ename": "SyntaxError",
     "evalue": "invalid syntax (514927629.py, line 1)",
     "output_type": "error",
     "traceback": [
      "\u001b[1;36m  Cell \u001b[1;32mIn[9], line 1\u001b[1;36m\u001b[0m\n\u001b[1;33m    if <expr>:\u001b[0m\n\u001b[1;37m       ^\u001b[0m\n\u001b[1;31mSyntaxError\u001b[0m\u001b[1;31m:\u001b[0m invalid syntax\n"
     ]
    }
   ],
   "source": [
    "if <expr>:\n",
    "    <statement(s)>\n",
    "else:\n",
    "    <statement(s)>"
   ]
  },
  {
   "cell_type": "raw",
   "id": "ef2461f0-f170-4228-a204-54b3cca93d31",
   "metadata": {},
   "source": [
    "Jika <expr> benar, rangkaian pertama dijalankan, dan rangkaian kedua dilewati. Jika salah, rangkaian pertama dilewati dan rangkaian  kedua dijalankan. Begitupun sebaliknya, eksekusi kemudian dilanjutkan setelah rangkaian kedua. Kedua suite ditentukan oleh indentasi, seperti dijelaskan diatas.\n",
    "\n",
    "Dalam contoh ini, x kurang dari 50, jadi rangkaian pertama (baris 4 hingga 5) dieksekusi, dan rangkaian kedua (baris 7 hingga 8) dilewati:"
   ]
  },
  {
   "cell_type": "code",
   "execution_count": 10,
   "id": "0b44969b-317e-4837-93fa-b8240efbb668",
   "metadata": {},
   "outputs": [
    {
     "name": "stdout",
     "output_type": "stream",
     "text": [
      "(first suite)\n",
      "x is small\n"
     ]
    }
   ],
   "source": [
    "x = 20\n",
    "\n",
    "if x < 50:\n",
    "    print('(first suite)')\n",
    "    print('x is small')\n",
    "else:\n",
    "    print('(second suite)')\n",
    "    print('x is large')"
   ]
  },
  {
   "cell_type": "markdown",
   "id": "1a0fdeab-fc46-4106-b2df-423bb0cc24c0",
   "metadata": {},
   "source": [
    "Di sini, di sisi lain, x lebih besar dari 50, jadi rangkaian pertama dilewatkan, dan rangkaian kedua dieksekusi:"
   ]
  },
  {
   "cell_type": "code",
   "execution_count": 12,
   "id": "fc80107a-bd3b-43ed-b1a7-584db5788adc",
   "metadata": {},
   "outputs": [
    {
     "name": "stdout",
     "output_type": "stream",
     "text": [
      "(second suite)\n",
      "x is large\n"
     ]
    }
   ],
   "source": [
    "x = 120\n",
    "\n",
    "if x < 50:\n",
    "    print('(first suite)')\n",
    "    print('x is small')\n",
    "else:\n",
    "    print('(second suite)')\n",
    "    print('x is large')"
   ]
  },
  {
   "cell_type": "code",
   "execution_count": 13,
   "id": "f2f6afc4-5670-41a8-878d-0b6be27abbf1",
   "metadata": {},
   "outputs": [
    {
     "name": "stdout",
     "output_type": "stream",
     "text": [
      "uang tidak cukup\n"
     ]
    }
   ],
   "source": [
    "hargaBuku = 20000\n",
    "hargaMajalah = 5000\n",
    "uang = 2000\n",
    "\n",
    "if uang > hargaBuku:\n",
    "    print(\"beli buku\")\n",
    "else:\n",
    "    print(\"uang tidak cukup\")"
   ]
  },
  {
   "cell_type": "markdown",
   "id": "7f3e1a26-c65a-4a66-a440-d5ea5fb0b790",
   "metadata": {},
   "source": [
    "Ada juga sintaks untuk eksekusi percabangan berdasarkan beberapa alternatif. Untuk ini, gunakan satu atau lebih klausa elif (kependekan dari else if). Python mengevaluasi setiap <expr> secara bergantian dan menjalankan suite yang sesuai dengan yang pertama benar. Jika tidak ada ekspresi yang benar, dan klausa else ada disana, rangkaiannya akan dieksekusi:"
   ]
  },
  {
   "cell_type": "raw",
   "id": "05e626da-079e-4ace-ae52-46aa87960cd2",
   "metadata": {},
   "source": [
    "if <expr>:\n",
    "    <statement(s)>\n",
    "elif <expr>:\n",
    "    <statement(s)>\n",
    "elif <expr>:\n",
    "    <statement(s)>\n",
    "    ...\n",
    "else:\n",
    "    <statement(s)>"
   ]
  },
  {
   "cell_type": "markdown",
   "id": "d369c105-f971-4d6c-8545-68cfb7b77ea1",
   "metadata": {},
   "source": [
    "Jumlah klausa elif dapat ditentukan berapapun. Klausa elfe bersifat opsional. Jika ada, hanya ada boleh ada satu, dan harus ditentukan terakhir:"
   ]
  },
  {
   "cell_type": "code",
   "execution_count": 15,
   "id": "46165a93-a2fc-4ece-8e36-cc2854c2f7fa",
   "metadata": {},
   "outputs": [
    {
     "name": "stdout",
     "output_type": "stream",
     "text": [
      "uang tidak cukup\n"
     ]
    }
   ],
   "source": [
    "hargaBuku = 20000\n",
    "hargaMajalah = 5000\n",
    "uang = 2000\n",
    "\n",
    "if uang > hargaBuku:\n",
    "    print(\"beli buku\")\n",
    "elif uang > hargaMajalah:\n",
    "    print(\"beli majalah\")\n",
    "else:\n",
    "    print(\"uang tidak cukup\")"
   ]
  },
  {
   "cell_type": "code",
   "execution_count": 17,
   "id": "fda26507-d2ca-478e-bd84-1c0fe24217ae",
   "metadata": {},
   "outputs": [
    {
     "name": "stdout",
     "output_type": "stream",
     "text": [
      "Hello Hacktiv8\n"
     ]
    }
   ],
   "source": [
    "name = 'Hacktiv8'\n",
    "if name == 'Fred':\n",
    "    print('Hello Fred')\n",
    "elif name == 'Xander':\n",
    "    print('Hello Xander')\n",
    "elif name == 'Hacktiv8':\n",
    "    print('Hello Hacktiv8')\n",
    "elif name == 'Arnold':\n",
    "    print('Hello Arnold')\n",
    "else:\n",
    "    print(\"I don't know who you are!\")"
   ]
  },
  {
   "cell_type": "markdown",
   "id": "f63e831e-a619-4593-b921-e15f19911968",
   "metadata": {},
   "source": [
    "Pada dasarnya, salah satu blok kode yang ditentukan akan dieksekusi. Jika klausa else tidak disertakan, dan semua kondisinya salah, maka tidak ada blok yang akan dieksekusi.\n",
    "\n",
    "Pernyataan if dengan kalusa elif menggunakan short-circuit evaluation, serupa dengan apa yang kalian lihat dengan operator and dan or. Setelah salah satu ekspresi ditemukan benar dan bloknya dijalankan, tidak ada ekspresi yang tersisa yang diuki. Ini ditunjukkan dibawah ini:"
   ]
  },
  {
   "cell_type": "code",
   "execution_count": 19,
   "id": "37480e0e-4e63-4492-971e-894a6d1c57ee",
   "metadata": {},
   "outputs": [
    {
     "name": "stdout",
     "output_type": "stream",
     "text": [
      "foo\n"
     ]
    }
   ],
   "source": [
    "if 'a' in 'bar':\n",
    "    print('foo')\n",
    "elif 1/0:\n",
    "    print(\"This won't happen\")\n",
    "elif var:\n",
    "    print(\"This won't either\")"
   ]
  },
  {
   "cell_type": "raw",
   "id": "0f521e25-02ba-4941-ade9-f47c6c1f757e",
   "metadata": {},
   "source": [
    "One-Line if statements\n",
    "\n",
    "Biasanya <expr> ditulis satu baris dan <statement> diindentasi pada baris berikut seperti ini:"
   ]
  },
  {
   "cell_type": "raw",
   "id": "18072aad-1205-404d-bd0a-f4a26086a707",
   "metadata": {},
   "source": [
    "if <expr>:\n",
    "    <statement>"
   ]
  },
  {
   "cell_type": "raw",
   "id": "c45cd898-0b69-4253-bf14-6afe1310f98c",
   "metadata": {},
   "source": [
    "Tetapi diperbolehkan untuk menulis seluruh pernyataan if dalam satu baris. Berikut ini secara fungsional yang steara dengan contoh diatas:\n",
    "\n",
    "if <expr>:\n",
    "\n",
    "Bahkan bisa ada lebih dari satu <statement> pada baris yang sama, dipisahkan oleh titik koma:\n",
    "\n",
    "if <expr>: <statement_1>; <statement_2>; ...; <statement_n>\n",
    "\n",
    "Tapi apa artinya? Ada dua kemungkinan interpretasi:\n",
    "\n",
    "if <expr> is true, execute <statement_1>.\n",
    "\n",
    "Then, execute <statement_2>...<statement_n> unconditionally, irrespective or whether <expr> is true or not.\n",
    "\n",
    "if <expr> is true, execute all of <statement_1>...<statement_n>. Otherwise, don't execute any of them.\n",
    "\n",
    "Python mengambil interprestasi yang terakhir. Tanda titik koma yang memisahkan <statement> memiliki prioritas lebih tinggi daripada titik dua setelah <expr> --dalam bahasa komputer, titik koma dikatakan mengikat lebih erat daripada titik dua. Dengan demikian, <statements> diperlakukan sebagai suite, dan semuanya dijalankan, atau tidak ada yang:"
   ]
  },
  {
   "cell_type": "code",
   "execution_count": 21,
   "id": "0dcd1407-d2d6-418e-94e9-ed26a2f39831",
   "metadata": {},
   "outputs": [
    {
     "name": "stdout",
     "output_type": "stream",
     "text": [
      "1\n",
      "2\n",
      "3\n"
     ]
    }
   ],
   "source": [
    "if 'f' in 'foo': print('1'); print('2'); print('3')"
   ]
  },
  {
   "cell_type": "code",
   "execution_count": 22,
   "id": "11de7fd9-6892-49a5-896a-3cda7d66dcea",
   "metadata": {},
   "outputs": [],
   "source": [
    "if 'z' in 'foo': print('1'); print('2'); print('3')"
   ]
  },
  {
   "cell_type": "markdown",
   "id": "b7fff96f-cb99-4adf-97d8-009f83547db8",
   "metadata": {},
   "source": [
    "Multiple statements dapat ditentukan pada baris yang sama sebagai elif atau else:"
   ]
  },
  {
   "cell_type": "code",
   "execution_count": 23,
   "id": "6a1daa76-964c-4af6-a952-5724aac8b500",
   "metadata": {},
   "outputs": [
    {
     "name": "stdout",
     "output_type": "stream",
     "text": [
      "qux\n",
      "quux\n"
     ]
    }
   ],
   "source": [
    "x = 2\n",
    "\n",
    "if x == 1: print('foo'); print('bar'); print('baz')\n",
    "elif x == 2: print('qux'); print('quux')"
   ]
  },
  {
   "cell_type": "code",
   "execution_count": 24,
   "id": "5f8f2d62-2007-48c2-b8a9-0ca10bc9e526",
   "metadata": {},
   "outputs": [
    {
     "name": "stdout",
     "output_type": "stream",
     "text": [
      "corge\n",
      "grault\n"
     ]
    }
   ],
   "source": [
    "x = 3\n",
    "if x == 1: print('foo'); print('bar'); print('baz')\n",
    "elif x == 2: print('qux'); print('quux')\n",
    "else: print('corge'); print('grault')"
   ]
  },
  {
   "cell_type": "markdown",
   "id": "54910d7a-ae16-4838-b559-2495c3d8826f",
   "metadata": {},
   "source": [
    "Meskipun semua ini berfungsi, dan interpreter mengizinkannya, umumnya tidak disarankan menyebabkan readability yang buruk, terutama untuk pernyataan if yang kompleks. PEP 8 secara khusus merekomendasikan untuk tidak melakukannya.\n",
    "\n",
    "Seperti biasa, ini masalah selera. Kebanyakan orang akan mengannggap hal dibawah ini lebih menarik secara visual dan lebih mudah dipahami pada pandangan pertama daripada contoh diatas:"
   ]
  },
  {
   "cell_type": "code",
   "execution_count": 25,
   "id": "e46c2e4f-fffb-4d15-81d1-d9a9f0621aec",
   "metadata": {},
   "outputs": [
    {
     "name": "stdout",
     "output_type": "stream",
     "text": [
      "corge\n",
      "grault\n"
     ]
    }
   ],
   "source": [
    "x = 3\n",
    "if x == 1:\n",
    "    print('foo')\n",
    "    print('bar')\n",
    "    print('baz')\n",
    "elif x == 2:\n",
    "    print('qux')\n",
    "    print('quux')\n",
    "else:\n",
    "    print('corge')\n",
    "    print('grault')"
   ]
  },
  {
   "cell_type": "raw",
   "id": "05e64188-3654-4378-9e0b-b4ad56eef86d",
   "metadata": {},
   "source": [
    "Conditional Expressions (Python's Ternary Operator)\n",
    "\n",
    "Python mendukung decision-making tambahan yang disebut conditional expression. (Juga disebut conditional operator atua ternary operator di berbagai Python documentation.) Conditional expressions diusulkan untuk ditambahkan ke bahasa di PEP308 dan diberi lampu hijau oleh Guido tahun 2005.\n",
    "\n",
    "Dalam bentuknya yang paling sederhana, sintaks dari conditional expression adalah sebagai berikut:\n",
    "\n",
    "<expr1> if <conditional_expr> else <expr2>\n",
    "\n",
    "Ini berbeda dengan pernyataan if yang tercantum di atas karena ini bukan struktur kontrol yang mengarhkan aliran eksekusi program. Ini bertindak lebih seperti operator yang mendefinisikan eksspresi. Dalam contoh diatas, <conditional_expr> dievaluasi terlebih dahulu. Jika benar, ekespresi mengevaluasi ke <expr1> if. Jika salah, ekspresi mengevaluasi ke <expr2>.\n",
    "\n",
    "Perhatikan urutan yang tidak jelas: ekspresi tengah dievaluasi terlebih dahulu, dan berdasarkan hasil itu, salah satu ekspresi di ujung dikembalikan. Berikut beberapa contoh yang diharapkan dapat membantu memperjelas: "
   ]
  },
  {
   "cell_type": "code",
   "execution_count": 26,
   "id": "075342b7-e066-4bc7-82fa-41f81e91bae1",
   "metadata": {},
   "outputs": [
    {
     "name": "stdout",
     "output_type": "stream",
     "text": [
      "Let's go to the beach\n"
     ]
    }
   ],
   "source": [
    "raining = False\n",
    "print(\"Let's go to the\", 'beach' if not raining else 'library')"
   ]
  },
  {
   "cell_type": "code",
   "execution_count": 27,
   "id": "231614e3-3454-4741-8bd9-19fdd5b14525",
   "metadata": {},
   "outputs": [
    {
     "name": "stdout",
     "output_type": "stream",
     "text": [
      "Let's go to the library\n"
     ]
    }
   ],
   "source": [
    "raining = True\n",
    "print(\"Let's go to the\", 'beach' if not raining else 'library')"
   ]
  },
  {
   "cell_type": "code",
   "execution_count": 28,
   "id": "d2951214-4a53-4dd2-897e-8d9e19b04fb7",
   "metadata": {},
   "outputs": [
    {
     "data": {
      "text/plain": [
       "'teen'"
      ]
     },
     "execution_count": 28,
     "metadata": {},
     "output_type": "execute_result"
    }
   ],
   "source": [
    "age = 12\n",
    "s = 'teen' if age < 21 else 'adult'\n",
    "s"
   ]
  },
  {
   "cell_type": "code",
   "execution_count": 29,
   "id": "b41f07dd-1108-4af8-9225-783866bcdf14",
   "metadata": {},
   "outputs": [
    {
     "data": {
      "text/plain": [
       "'no'"
      ]
     },
     "execution_count": 29,
     "metadata": {},
     "output_type": "execute_result"
    }
   ],
   "source": [
    "'yes' if ('qux' in ['foo', 'bar', 'baz']) else 'no'"
   ]
  },
  {
   "cell_type": "markdown",
   "id": "c08b6188-d5fc-453b-bb09-79fe96d125dc",
   "metadata": {},
   "source": [
    "Kalian dapat menggunakan pernyataan if standar dengan klausa else:"
   ]
  },
  {
   "cell_type": "raw",
   "id": "6456fddc-2af3-46c3-9437-e22e5b934ff3",
   "metadata": {},
   "source": [
    "if a > b:\n",
    "    m = a\n",
    "else:\n",
    "    m = b"
   ]
  },
  {
   "cell_type": "raw",
   "id": "941a1ef0-5e13-4da1-a857-be62e86b3c60",
   "metadata": {},
   "source": [
    "Tapi conditional expression lebih pendek dan bisa dibilang lebih mudah dibaca juga:\n",
    "\n",
    "m = a if a > v else b\n",
    "\n",
    "Ingat bahwa conditional expression berperilaku seperti expression secara syntax. Ini dapat digunakan sebagai bagian dari expression yang lebih panjang. Conditional expression memiliki prioritas yang lebih rendah daripada hampir semua operator lain, jadi diperlukan tanda kurung untuk mengelompokkanya sendiri.\n",
    "\n",
    "In the expression <expr1> if <conditional_expr> else <expr2>:\n",
    "\n",
    "If <conditional_expr> is true, <expr1> is returned and <expr2> is not evaluated.\n",
    "\n",
    "If <conditional_expr> is false, <expr2> is returned and <expr1> is not evaluated.\n",
    "\n",
    "The Python pass Statement\n",
    "\n",
    "Terkadang, kalian mungkin menemukan bahwa kalian ingin menulis apa yang disebut code stub: placeholder tempat kalian pada akhirnya akan meletakkan blok kode yang belom kalian terapkan.\n",
    "\n",
    "Pertimbangkan skrip ini foo.py:"
   ]
  },
  {
   "cell_type": "code",
   "execution_count": 32,
   "id": "d682061a-ee65-48ba-9304-26af6dc6656f",
   "metadata": {},
   "outputs": [
    {
     "ename": "IndentationError",
     "evalue": "expected an indented block after 'if' statement on line 1 (3367160564.py, line 3)",
     "output_type": "error",
     "traceback": [
      "\u001b[1;36m  Cell \u001b[1;32mIn[32], line 3\u001b[1;36m\u001b[0m\n\u001b[1;33m    print('foo')\u001b[0m\n\u001b[1;37m    ^\u001b[0m\n\u001b[1;31mIndentationError\u001b[0m\u001b[1;31m:\u001b[0m expected an indented block after 'if' statement on line 1\n"
     ]
    }
   ],
   "source": [
    "if True:\n",
    "\n",
    "print('foo')"
   ]
  },
  {
   "cell_type": "raw",
   "id": "82a150ee-1fc9-4d4c-bbe9-304f85738bf9",
   "metadata": {},
   "source": [
    "Jika kalian mencoba menjalankan foo.py, kalian akan mendapatkan (diatas)"
   ]
  },
  {
   "cell_type": "markdown",
   "id": "c5cfc518-b6c3-4797-8387-b2b46d78b6ab",
   "metadata": {},
   "source": [
    "Python pass statement memecahkan masalah ini. Dia tidak mengubah perilaku program sama sekali. Pass digunakan sebagai placeholder untuk membuat interpreter berjalan dalam situasi apa pun dimana pernyataan diperlukan secara sintaksis, tetap kalian tidak benar-benar ingin melakukan apapun:"
   ]
  },
  {
   "cell_type": "code",
   "execution_count": 33,
   "id": "83a5d753-196a-457d-896c-e64632e8aa06",
   "metadata": {},
   "outputs": [
    {
     "name": "stdout",
     "output_type": "stream",
     "text": [
      "foo\n"
     ]
    }
   ],
   "source": [
    "if True:\n",
    "    pass\n",
    "print('foo')"
   ]
  },
  {
   "cell_type": "raw",
   "id": "1f33e438-82b1-48f5-821f-e36d06738333",
   "metadata": {},
   "source": [
    "Iteration artinya mengeksekusi blok kode yang sama berulang kali, berpotensi berkali-kali. Struktur pemrograman yang mengimplementasikan iterasi disbeut loop.\n",
    "\n",
    "Dalam pemrograman, ada dua jenis iterasi, indefinite dan definite:\n",
    "   ▪ Dengan indefiniate iteration, berapa kali loop dijalankan tidak ditentukan secara eksplisit\n",
    "     sebelumnya. Sebaliknya, blok yang ditunjuk dijalankan berulang kali selama beberapa kondisi terpenuhi.\n",
    "   ▪ Dengan definite iteration, berapa kali blok yang ditunjuk akan dieksekusi ditentukan secara eksplesit pada saat \n",
    "     perulangan dimulai.\n",
    "\n",
    "Python \"while\" Loops\n",
    "\n",
    "Mari kita lihat bagaimana while Python digunakan untuk membuat loop. Kita akan memulai dengan sederhana dan kembangkan sambil jalan.\n",
    "\n",
    "Format while loop ditampilkan dibawah ini:"
   ]
  },
  {
   "cell_type": "raw",
   "id": "2bee3c56-3888-4efa-8a85-302450ff9db8",
   "metadata": {},
   "source": [
    "while <expr>:\n",
    "<statement(s)>"
   ]
  },
  {
   "cell_type": "raw",
   "id": "401d0f8d-91e3-44d6-a348-a95972d16916",
   "metadata": {},
   "source": [
    "<statement(s)> mewakili blok yang akan dieksekusi berulang kali, sering diesebut sebagai badan dari perulangan. <statement(s)> dilambangkan dengan indentasi, seperti dalam pernyataan if.\n",
    "\n",
    "Ekspresi pengontrol, <expr>, biasanya melibatkan satu atau lebih variabel yang diinisialisasi sebelum memulai pengulangan dan kemudian dimodifikasi di suatu tempat di badang pengulangan.\n",
    "\n",
    "Ketika loop dijalankan, <expr> pertama kali akan dievalusasi dalam konteks Boolean. Jika benar, badan perulangan akan dieksekusi lagi. Ini berlanjut sampai <expr> menjadi false, di mana eksekusi program akan berlanjut ke pernyataan pertama di luar badan perulangan.\n",
    "\n",
    "Consider this loop:"
   ]
  },
  {
   "cell_type": "code",
   "execution_count": 34,
   "id": "c224ceb8-fa3b-43b8-a8be-a959f96b04c1",
   "metadata": {},
   "outputs": [
    {
     "name": "stdout",
     "output_type": "stream",
     "text": [
      "4\n",
      "3\n",
      "2\n",
      "1\n",
      "0\n"
     ]
    }
   ],
   "source": [
    "n = 5\n",
    "while n > 0:\n",
    "    n -= 1\n",
    "    print(n)"
   ]
  },
  {
   "cell_type": "code",
   "execution_count": 35,
   "id": "e682ab58-647a-4d9d-8229-54fb1b9c7cd0",
   "metadata": {},
   "outputs": [
    {
     "name": "stdout",
     "output_type": "stream",
     "text": [
      "1\n",
      "2\n",
      "3\n",
      "4\n",
      "5\n"
     ]
    }
   ],
   "source": [
    "i = 1\n",
    "while i < 6:\n",
    "    print(i)\n",
    "    i += 1"
   ]
  },
  {
   "cell_type": "raw",
   "id": "6a7805d2-9287-445a-9578-f89971b284e1",
   "metadata": {},
   "source": [
    "Inilah yang terjadi dalam contoh diatas:\n",
    "    ▪ n adalah 5. Ekspresi dalam while pada barus 2 adalah n > 0, which is benar, sehingga badan perulangan \n",
    "      dieksekusi. Di dalam badan loop pada barus 3, n dikurangi 1 menjadi 4, dan kemudian dicetak ke layar.\n",
    "\n",
    "    ▪ Ketika bada loop telah selesai, eksekusi program kembali ke atas loop pada baris 2, dan ekspresi dievaluasi \n",
    "      lagi. Ekspresinya masih benar, jadi badan dieksekusi lagi, dan 3 dicetak.\n",
    "\n",
    "    ▪ Looping berlanjut sampai n menadi 0. Pada titik itu, ketika ekspresi diuji, dan salah, loop berhenti.\n",
    "      Eksekusi akan dilanjutkan pada pernyataan pertama setelah badan loop, tetapi tidak ada satu pun dalam\n",
    "      kasus ini.\n",
    "\n",
    "The Python break and continue Statements\n",
    "\n",
    "Dalam setiap contoh yang telah kalian lihat sejauh ini, seluruh isi while loop dijalankan pada setiap iterasi. Python menyediakan dua keywords yang menghentikan perulangan-perulangan sebelum waktunya:\n",
    "\n",
    "     ▪ Python break statement segera menghentikan perulangan seluruhnya. Eksekusi program dilanjutkan ke pernyataan\n",
    "       pertama setelah badan loop.\n",
    "     ▪ Python continue statement segera menghentikan iterasi loop saat dijalankan. Eksekusi melompat ke atas loop,\n",
    "       dan controlling expression dievaluasi ulang untuk menentukan apakah loop akan dieksekusi lagi atau dihentikan.\n",
    "\n",
    "Perbedaan antara break dan continue ditunjukkan pada diagram berikut:\n"
   ]
  },
  {
   "cell_type": "code",
   "execution_count": 36,
   "id": "b60d1fb2-6353-47b2-b90e-03044b9ee265",
   "metadata": {},
   "outputs": [
    {
     "name": "stdout",
     "output_type": "stream",
     "text": [
      "4\n",
      "3\n",
      "Loop ended.\n"
     ]
    }
   ],
   "source": [
    "n = 5\n",
    "while n > 0:\n",
    "    n -= 1\n",
    "    if n == 2:\n",
    "        break #break statement\n",
    "    print(n)\n",
    "print('Loop ended.')"
   ]
  },
  {
   "cell_type": "markdown",
   "id": "4028f9c1-9992-4e77-8333-2ea9fa82d02a",
   "metadata": {},
   "source": [
    "Ketikan n menjadi 2, pernyataan break dieksekusi. Perulangan dihentikan sepenuhnya, dan eksekusi program melompat ke pernyataan print() pada baris 7.\n",
    "\n",
    "Skip berikutnya, continue, identik dengan break kecuali continue menggantikan jeda:"
   ]
  },
  {
   "cell_type": "code",
   "execution_count": 1,
   "id": "6edc079f-e389-473e-a96b-68dc65bc9873",
   "metadata": {},
   "outputs": [
    {
     "name": "stdout",
     "output_type": "stream",
     "text": [
      "4\n",
      "3\n",
      "1\n",
      "0\n",
      "Loop ended\n"
     ]
    }
   ],
   "source": [
    "n = 5\n",
    "while n > 0:\n",
    "    n -= 1\n",
    "    if n == 2:\n",
    "        continue\n",
    "    print(n)\n",
    "print('Loop ended')"
   ]
  },
  {
   "cell_type": "markdown",
   "id": "e8fe21a2-ba22-423f-a623-7d3790c1c5fc",
   "metadata": {},
   "source": [
    "Kali ini, ketika n adalah 2, pernyataan continue menyebabkan penghentian iterasi. Jadi, 2 tidak dicetak. Eksekusi kembali ke atas loop, kondisi dievaluasi ulang, dan masih benar. Perulangan dilanjutkan, berakhir ketikan n menjadi 0, seperti sebelumnya.\n",
    "\n",
    "The else Clause\n",
    "\n",
    "Python memungkinkan adanya klausa else opsional di akhir loop while. Ini adalah fitur unik Python, tidak ditemukan di sebagian besar bahasa pemrograman lainnya. Sintaksnya ditunjukkan dibawah ini:"
   ]
  },
  {
   "cell_type": "raw",
   "id": "d134a66f-fe19-4d36-8d46-106b3251f2a9",
   "metadata": {},
   "source": [
    "while <expr>:\n",
    "    <statement(s)>\n",
    "else:\n",
    "    <additional_statement(s)>"
   ]
  },
  {
   "cell_type": "raw",
   "id": "b0551295-f217-4d08-82db-a69787497519",
   "metadata": {},
   "source": [
    "<additional_statement(s)> yang ditentukan di klausa else akan dieksekusi ketika loop sementara berakhir."
   ]
  },
  {
   "cell_type": "code",
   "execution_count": 3,
   "id": "6185a2c4-2cd2-492d-bbf8-1862977be839",
   "metadata": {},
   "outputs": [
    {
     "name": "stdout",
     "output_type": "stream",
     "text": [
      "4\n",
      "3\n",
      "2\n",
      "1\n",
      "0\n",
      "Loop done\n"
     ]
    }
   ],
   "source": [
    "n = 5\n",
    "while n > 0:\n",
    "    n -= 1\n",
    "    print(n)\n",
    "else:\n",
    "    print('Loop done')"
   ]
  },
  {
   "cell_type": "markdown",
   "id": "833e828c-5c1a-46cb-94e0-9034342b3bc9",
   "metadata": {},
   "source": [
    "Dalam kasus ini, loop diulang sampai kondisi habis: n menjadi 0, jadi n > 0 menjadi false. Klausa else dieksekusi. Sekarang amati perbedaannya disini:"
   ]
  },
  {
   "cell_type": "code",
   "execution_count": 4,
   "id": "c7edef0f-ddb7-4719-8319-23c52eb5ba5f",
   "metadata": {},
   "outputs": [
    {
     "name": "stdout",
     "output_type": "stream",
     "text": [
      "4\n",
      "3\n",
      "2\n"
     ]
    }
   ],
   "source": [
    "n = 5\n",
    "while n > 0:\n",
    "    n -= 1\n",
    "    print(n)\n",
    "    if n == 2:\n",
    "        break\n",
    "else:\n",
    "    print('Loop done.')"
   ]
  },
  {
   "cell_type": "markdown",
   "id": "52e69910-511f-49a4-8530-141ff14c1b29",
   "metadata": {},
   "source": [
    "Loop diatas diakhiri sebelum waktunya dengan break, sehingga klausa else tidak dijalankan.\n",
    "\n",
    "Infinite Loops\n",
    "\n",
    "Misalkan kalian menulis while loop yang secara teoritis tidak pernah berakhir. Kedengarannya aneh, bukan?\n",
    "\n",
    "Pertimbangkan contoh ini:"
   ]
  },
  {
   "cell_type": "raw",
   "id": "18d78df5-5d35-4130-ab6b-35b6f71c8ee3",
   "metadata": {},
   "source": [
    "while True:\n",
    "    print('foo')"
   ]
  },
  {
   "cell_type": "markdown",
   "id": "6a9f0811-60a9-4c26-be7f-13ea8dca982e",
   "metadata": {},
   "source": [
    "Nestedf while Loops\n",
    "\n",
    "Secara umum, struktur kontrol Python dapat di-nest satu sama lain. Misalnya, if/ elif/ else bisa di-nest:"
   ]
  },
  {
   "cell_type": "raw",
   "id": "ffd367ae-4ae8-40b3-9542-484dc9ea6844",
   "metadata": {},
   "source": [
    "if age < 18:\n",
    "    if gender == 'M':\n",
    "        print('son')\n",
    "    else:\n",
    "        print('daughter')\n",
    "elif age >= 18 and age < 65:\n",
    "    if gender == \"M\":\n",
    "        print('father')\n",
    "    else:\n",
    "        print('mother')\n",
    "else:\n",
    "    if gender == 'M':\n",
    "        print('grandfather')\n",
    "    else:\n",
    "        print('grandmother')"
   ]
  },
  {
   "cell_type": "markdown",
   "id": "6f2770e2-9cc2-4399-aa08-b02d2d24a05c",
   "metadata": {},
   "source": [
    "Demikian pula, loop while dapat dimuat dalam loop while lainnya, seperti yang ditunjukkan disini:"
   ]
  },
  {
   "cell_type": "code",
   "execution_count": 1,
   "id": "81173b44-f067-4772-9b0a-625b9c01d334",
   "metadata": {},
   "outputs": [
    {
     "name": "stdout",
     "output_type": "stream",
     "text": [
      "foo\n",
      "> baz\n",
      "> qux\n",
      "bar\n",
      "> baz\n",
      "> qux\n"
     ]
    }
   ],
   "source": [
    "a = ['foo', 'bar']\n",
    "\n",
    "while len(a):\n",
    "    print(a.pop(0))\n",
    "\n",
    "    b = ['baz', 'qux']\n",
    "\n",
    "    while len(b):\n",
    "        print('>', b.pop(0))"
   ]
  },
  {
   "cell_type": "markdown",
   "id": "71afcc16-3327-4277-9556-10fc04f90652",
   "metadata": {},
   "source": [
    "Break atau continue statement yang ditemukan dalam nested loop berlaku untuk loop terdekat:"
   ]
  },
  {
   "cell_type": "raw",
   "id": "251ed00a-77f8-4f75-9efe-21db040bad21",
   "metadata": {},
   "source": [
    "while <expr1>:\n",
    "    statement\n",
    "    statement\n",
    "\n",
    "    while <expr2>:\n",
    "        statement\n",
    "        statement\n",
    "        break # Applies to while <expr2>: loop\n",
    "\n",
    "break # Applies to while <expr1>: loop\n"
   ]
  },
  {
   "cell_type": "markdown",
   "id": "c9f28199-9355-4569-93da-0a62d5b1f3e8",
   "metadata": {},
   "source": [
    "Selain itu, while loop dapat ditempatkan di dalam pernyataan if/ elif/ else, dan sebaliknya:"
   ]
  },
  {
   "cell_type": "raw",
   "id": "21fd4b6f-daa0-45b7-a598-219aa4ee2f9f",
   "metadata": {},
   "source": [
    "n = 5\n",
    "while n > 0: n -+ 1; print(n)"
   ]
  },
  {
   "cell_type": "raw",
   "id": "f68d1bb5-072e-4db5-86d0-5a7bfb2d3340",
   "metadata": {},
   "source": [
    "if <expr>:\n",
    "    statement\n",
    "    while <expr>:\n",
    "        statement\n",
    "        statement\n",
    "else:\n",
    "    while <expr>:\n",
    "        statement\n",
    "        statement\n",
    "    statement\n",
    "    while <expr>:\n",
    "        if <expr>:\n",
    "            statement\n",
    "        elif <expr>:\n",
    "            statement\n",
    "        else:\n",
    "            statement\n",
    "\n",
    "        if <expr>:\n",
    "            statement"
   ]
  },
  {
   "cell_type": "markdown",
   "id": "5850d4c8-3dce-430b-b885-e87fa31c5c4c",
   "metadata": {},
   "source": [
    "One-Line while Loops\n",
    "\n",
    "Seperti pernyataan if, loop while dapat ditentukan pada satu baris. Jika ada beberapa pernyataan di blok yang membentuk badan perulangan, pernyataan tersebut dapat dipisahkan dengan titik koma (:):"
   ]
  },
  {
   "cell_type": "code",
   "execution_count": 2,
   "id": "fd86104b-d847-4a1f-ab2e-d6822849cd9d",
   "metadata": {},
   "outputs": [
    {
     "name": "stdout",
     "output_type": "stream",
     "text": [
      "4\n",
      "3\n",
      "2\n",
      "1\n",
      "0\n"
     ]
    }
   ],
   "source": [
    "n = 5\n",
    "while n > 0: n -= 1; print(n)"
   ]
  },
  {
   "cell_type": "markdown",
   "id": "bd58162d-2c05-47bf-a077-d69a2bdec93d",
   "metadata": {},
   "source": [
    "A Surven of Definite Iteration in Programming\n",
    "\n",
    "Definite iteration loops sering disebut dengan for loops karena keyword yang digunakan untuk memperkenalkan definite iteration loops di hampir semua bahasa pemrograman, including Python.\n",
    "\n",
    "Secara historis, bahasa pemrograman telah menawarkan beberapa variasai for loop. Dijelaskan secara singkat di bangian berikut.\n",
    "\n",
    "Numeric Range Loop\n",
    "\n",
    "Perulangan for yang paling dasar adalah tentang numerik sederhana dengan nilai awal dan akhir. Format pastinya bervariasai bergantung pada bhasanya tetapi biasanya terlihat seperti ini:"
   ]
  },
  {
   "cell_type": "raw",
   "id": "c368b55e-301d-4abd-a662-67ebaa0a3b40",
   "metadata": {},
   "source": [
    "for i = 1 to 10\n",
    "    <loop body>"
   ]
  },
  {
   "cell_type": "raw",
   "id": "27a5711b-72ff-44ba-ab75-c80eb45b059e",
   "metadata": {},
   "source": [
    "Disini, badan perulangan dieksekusi sepuluh kali. Variabel i mengasumsikan niali 1 pada iterasi pertama, 2 pada iterasi kedua, dan setrusnya. Perluangan for semacam ini digunakan dalam bahasa BASIC, Algol, dan Pascal.\n",
    "\n",
    "Three-Expression Loop\n",
    "\n",
    "Bentuk lain dari for loop yang dipopulerkan oleh bahasa C berisi tiga bagian:\n",
    "\n",
    "    ▪ An initialization \n",
    "    ▪ An expression specifying an ending condition\n",
    "    ▪ An action to be performed at the end of each iteration\n",
    "\n",
    "Jenis ini memiliki bentuk sebagai berikut:"
   ]
  },
  {
   "cell_type": "raw",
   "id": "89a47c13-4e2f-47c6-8633-d5e9257ce18f",
   "metadata": {},
   "source": [
    "for (i = 1; i <=10; i++)\n",
    "    <loop body>"
   ]
  },
  {
   "cell_type": "raw",
   "id": "39bdcf35-caea-4827-af90-e7e9a825f2ed",
   "metadata": {},
   "source": [
    "Loop ini diartikan sebegai berikut:\n",
    "\n",
    "    ▪ Initialize i to 1.\n",
    "    ▪ Continue looping as long as i <= 10.\n",
    "    ▪ Increment i by 1 after each loop iteration.\n",
    "\n",
    "Three-expression for loops sangat populer karena ekspresi yang ditentukan untuk tiga bagian bisa hampir apa saha, jadi Three-expression for loops memiliki fleksibilitas yang lebih banyak daripada bentuk rentang numerik yang lebih sederhana yang ditunjukkan di atas. Ini untuk loop juga ditampilkan dalam bahasa C++, Java, PHP, dan Perl.\n",
    "\n",
    "Collection-Based or Iterator-Based Loop\n",
    "\n",
    "Jenis perulangan ini mengulang collection of objects, daripada nilai numerik atau kondisi:"
   ]
  },
  {
   "cell_type": "raw",
   "id": "e14be37b-8fde-4b13-bf6b-49b55e512c99",
   "metadata": {},
   "source": [
    "for i in <collection>\n",
    "    <loop body>"
   ]
  },
  {
   "cell_type": "raw",
   "id": "903ec380-eaa7-4358-b109-1b3e9c30d635",
   "metadata": {},
   "source": [
    "Setiap kali melalui perulangan, variabel i mengambil nilai dari objek berikutnya di <collection>. Jenis perulangan for ini bisa dibilang yang paling umum dan abstrak. Perl dan PHP juga mendukung jenis pengulangan ini, tetapi diperkenalkan dengan kata kunci foreach.\n",
    "\n",
    "The Python for Loop\n",
    "\n",
    "Dari jenis loop yang tercantum diatas, Python hanya mengimplementasikan iterasi terakhir: collection-based.\n",
    "\n",
    "Namun untuk saat ini, mari kita mulai dengan prototipe dan contoh singkat, hanya untuk berkenalan.\n",
    "\n",
    "Perulangan for Python terlihat seperti ini:"
   ]
  },
  {
   "cell_type": "raw",
   "id": "546673d5-bd5f-4783-978e-bf004bec2985",
   "metadata": {},
   "source": [
    "for <var> in <iterable>:\n",
    "    <statement(s)>"
   ]
  },
  {
   "cell_type": "raw",
   "id": "e207206a-6c3f-4426-90f3-727d9b5feec5",
   "metadata": {},
   "source": [
    "<iterable> adalah kumpulan objek -- misalnya, list atau tuple. <statement(s)> di badan loop dilambangkan dengan indentasi, seperti dengan semuastruktur kontrol Python, dan dieksekusi sekali untuk setiap item di <iterable>, variabel loop <var> mengambil nilai elemen berikutnya di <iterable> setiap kali melalui loop.\n",
    "\n",
    "Berikut adalah contoj representatifnya:"
   ]
  },
  {
   "cell_type": "code",
   "execution_count": 3,
   "id": "0a3e8521-eace-4f1c-ad71-817c22253c3c",
   "metadata": {},
   "outputs": [
    {
     "name": "stdout",
     "output_type": "stream",
     "text": [
      "foo\n",
      "bar\n",
      "baz\n"
     ]
    }
   ],
   "source": [
    "a = ['foo', 'bar', 'baz']\n",
    "for i in a:\n",
    "    print(i)"
   ]
  },
  {
   "cell_type": "raw",
   "id": "a1a9ffda-3665-4711-8923-366c801a4176",
   "metadata": {},
   "source": [
    "Dalam contoh ini, <iterable> adalah list, dan <var> adalah variable i. Setiap kali melalui loop kita mengambil item berturut-turut di a, jadi print() masing-masing menampilkan nilai 'foo', 'bar', dan 'baz'. Perulangan for seperti ini adalah Pythonic way untuk memproses item secara iterable."
   ]
  },
  {
   "cell_type": "code",
   "execution_count": 4,
   "id": "3fd2941c-cd6b-4d92-802a-9a6e29238788",
   "metadata": {},
   "outputs": [
    {
     "name": "stdout",
     "output_type": "stream",
     "text": [
      "foo\n",
      "bar\n",
      "baz\n"
     ]
    }
   ],
   "source": [
    "d = {'foo': 1, 'bar': 2, 'baz': 3}\n",
    "for k in d:\n",
    "    print(k)"
   ]
  },
  {
   "cell_type": "code",
   "execution_count": 5,
   "id": "e8e512a3-30b8-4046-ba30-0fea9802b293",
   "metadata": {},
   "outputs": [
    {
     "name": "stdout",
     "output_type": "stream",
     "text": [
      "1\n",
      "2\n",
      "3\n"
     ]
    }
   ],
   "source": [
    "for k in d:\n",
    "    print(d[k])"
   ]
  },
  {
   "cell_type": "code",
   "execution_count": 6,
   "id": "72f5afb9-e3b6-4339-af40-b8239643cd74",
   "metadata": {},
   "outputs": [
    {
     "name": "stdout",
     "output_type": "stream",
     "text": [
      "1\n",
      "2\n",
      "3\n"
     ]
    }
   ],
   "source": [
    "for k in d.values():\n",
    "    print(k)"
   ]
  },
  {
   "cell_type": "code",
   "execution_count": 8,
   "id": "4d8223b3-fe7a-46a1-9800-0ebeeee565f7",
   "metadata": {},
   "outputs": [
    {
     "name": "stdout",
     "output_type": "stream",
     "text": [
      "foo : 1\n",
      "bar : 2\n",
      "baz : 3\n"
     ]
    }
   ],
   "source": [
    "for k, v in d.items():\n",
    "    print(k, \":\", v)"
   ]
  },
  {
   "cell_type": "markdown",
   "id": "9752c98f-e9ae-4603-865b-cca40a3fa865",
   "metadata": {},
   "source": [
    "Iterating Through a Dictionary\n",
    "\n",
    "What happens when ypu loop through a dictionary? Let's see:"
   ]
  },
  {
   "cell_type": "raw",
   "id": "ae236877-4966-4af9-a7d8-409c4885d2cd",
   "metadata": {},
   "source": [
    "d = {'foo': 1, 'bar': 2, 'baz': 3}\n",
    "for k in d:\n",
    "    print(k)"
   ]
  },
  {
   "cell_type": "raw",
   "id": "2c0af593-9778-478c-ab72-292a343df987",
   "metadata": {},
   "source": [
    "Seperti yang kalian lihat, ketika perulangan for diiterasi melalui dictionary, variabel perulangan ditugaskan ke kunci dictionary.\n",
    "\n",
    "Untuk mengakses nilai dictionary dalam loop, kalian dapat membuat refernsi dictionary menggunakan kunci seperti biasa:"
   ]
  },
  {
   "cell_type": "raw",
   "id": "1d2c20ee-9556-46b6-aa59-e202fc6cf9f4",
   "metadata": {},
   "source": [
    "for k in d:\n",
    "    print(d[k])"
   ]
  },
  {
   "cell_type": "raw",
   "id": "bcfae5f3-f78b-4d79-b403-90259e9b7701",
   "metadata": {},
   "source": [
    "Kalian juga dapat beriterasi melalui nilai dictionary secara langsung dengan menggunakan .values():"
   ]
  },
  {
   "cell_type": "raw",
   "id": "9a2d3527-b297-42c6-8ed1-dcb1925fe3c0",
   "metadata": {},
   "source": [
    "for v in d.values():\n",
    "    print(v)"
   ]
  },
  {
   "cell_type": "markdown",
   "id": "8cd540af-7cad-4bc2-a9c9-1abba0a25cf0",
   "metadata": {},
   "source": [
    "The range() Function"
   ]
  },
  {
   "cell_type": "raw",
   "id": "116c5bd4-27ce-4584-8176-35c3a7447240",
   "metadata": {},
   "source": [
    "Di bagian pertama sesi ini, kalian melihat jenis loop for yang disebut numeric range loop, dimana nilai numerik awal dan akhir ditentukan. Meskipun bentuk perulangan for in thidak built in dalam Python, namun mudah dibuat.\n",
    "\n",
    "Misalnya, jika kalian ingin mengulang nilai dari 0 hingg 4, kalian cukup melakukan ini:"
   ]
  },
  {
   "cell_type": "raw",
   "id": "71d825b2-6441-4124-9da0-188a604a2988",
   "metadata": {},
   "source": [
    "for n in (0, 1, 2, 3, 4):\n",
    "    print(n)"
   ]
  },
  {
   "cell_type": "raw",
   "id": "59c8dfab-b7d0-47e0-b097-ff95b4670087",
   "metadata": {},
   "source": [
    "Solusi ini tidak terlalu buruk jika hanya ada beberapa angka. Tetapi jika kisaran angkanya jauh lebih besar, itu akan menyusahkan.\n",
    "\n",
    "Untungnya, Python menyediakan opsi yang lebih baik -- fungsi built-in range(), yang mengembalikan iertable yang menghasilkan urutan bilang bulat.\n",
    "\n",
    "range (<end>) mengembalikan iterable yang menghasilkan integer dimulai dengan 0, hingga <end> tetapi tidak termasuk <end>:"
   ]
  },
  {
   "cell_type": "raw",
   "id": "c30776fa-9bdc-4be8-8289-cf9bb96d14a4",
   "metadata": {},
   "source": [
    "a  range(5)"
   ]
  },
  {
   "cell_type": "raw",
   "id": "862ffda3-26a1-4209-aa00-97b4770aef50",
   "metadata": {},
   "source": [
    "Perhatikan bahwa range() mengembalikan objek class range, bukan list atau tuple. Karena objek range adalah iretable, kalian bisa mendapatkan nilainya dengan beriterasi menggunakan for loop:"
   ]
  },
  {
   "cell_type": "raw",
   "id": "8e7caa99-dc97-41e0-8f6f-dffc8250a935",
   "metadata": {},
   "source": [
    "for n in x:\n",
    "    print(n)"
   ]
  },
  {
   "cell_type": "markdown",
   "id": "aa2bda29-49ee-4696-8d7f-7863c45d8ca4",
   "metadata": {},
   "source": [
    "Altering for Loop Behaviour"
   ]
  },
  {
   "cell_type": "raw",
   "id": "b99d0b3f-89fa-4e8a-ab5c-a5ec219a51e7",
   "metadata": {},
   "source": [
    "Kalian telah melihat di bagian sebelumnya dalam sesi ini bagaimana eksekusi while loop dapat diinterupsi dengan pernyataan break and continue dan dimodifikasi dengan klausa else. Kemampuan ini juga tersedia dengan for lookp."
   ]
  },
  {
   "cell_type": "raw",
   "id": "6c91d358-0ee9-4885-b5cd-1df9f1f6a1e7",
   "metadata": {},
   "source": [
    "The break and continue Statements\n",
    "\n",
    "break and continue bekerja dengan cara yang sama dengan for loop seperti denan while loop. Break menghentikan loop sepenuhnya dan melanjutkan ke pernyataan pertama setelah loop:"
   ]
  },
  {
   "cell_type": "code",
   "execution_count": 1,
   "id": "6f23f202-2293-4216-be2e-1073cb993fcf",
   "metadata": {},
   "outputs": [
    {
     "name": "stdout",
     "output_type": "stream",
     "text": [
      "foo\n"
     ]
    }
   ],
   "source": [
    "for i in ['foo', 'bar', 'baz', 'qux']:\n",
    "    if 'b' in i:\n",
    "        break\n",
    "    print(i)"
   ]
  },
  {
   "cell_type": "raw",
   "id": "1f20f305-03ce-412a-a616-c5fa63a2927f",
   "metadata": {},
   "source": [
    "continue menghentikan iteasi saat ini dan melanjutkan ke iterasi berikutnya: "
   ]
  },
  {
   "cell_type": "code",
   "execution_count": 2,
   "id": "7ecbfb24-f9ee-426c-8fcb-9d68bad362f3",
   "metadata": {},
   "outputs": [
    {
     "name": "stdout",
     "output_type": "stream",
     "text": [
      "foo\n",
      "qux\n"
     ]
    }
   ],
   "source": [
    "for i in ['foo', 'bar', 'baz', 'qux']:\n",
    "    if 'b' in i:\n",
    "        continue\n",
    "    print(i)"
   ]
  },
  {
   "cell_type": "raw",
   "id": "427ff435-1488-489a-8d9a-00bc7920d946",
   "metadata": {},
   "source": [
    "The else Clause\n",
    "\n",
    "Perulangan for juga dapat memiliki klausa else. Interpretasinya sama dengan while loop. Kalusa else akan dijalankan jika loop berakhir karena iterable habis:"
   ]
  },
  {
   "cell_type": "code",
   "execution_count": 4,
   "id": "4db5e488-8811-4874-8f60-a596a5770983",
   "metadata": {},
   "outputs": [
    {
     "name": "stdout",
     "output_type": "stream",
     "text": [
      "foo\n",
      "bar\n",
      "baz\n",
      "qux\n",
      "Done.\n"
     ]
    }
   ],
   "source": [
    "for i in ['foo', 'bar', 'baz', 'qux']:\n",
    "    print(i)\n",
    "else:\n",
    "    print('Done.') #will execute"
   ]
  },
  {
   "cell_type": "raw",
   "id": "d05ef74e-b6c2-46bd-bfa1-c15e4c85ed9b",
   "metadata": {},
   "source": [
    "Kalusa ekse tidak akan dijalankan jika list berhenti dengan pernyataan break:"
   ]
  },
  {
   "cell_type": "code",
   "execution_count": 5,
   "id": "f76c1d7b-8c82-4f2c-aa45-c89a0ecb8c3b",
   "metadata": {},
   "outputs": [
    {
     "name": "stdout",
     "output_type": "stream",
     "text": [
      "foo\n"
     ]
    }
   ],
   "source": [
    "for i in ['foo', 'bar', 'baz', 'qux']:\n",
    "    if i == 'bar':\n",
    "        break\n",
    "    print(i)\n",
    "else:\n",
    "    print('Done.') # will not execute"
   ]
  },
  {
   "cell_type": "raw",
   "id": "0ab049c9-b93b-4fa3-9b76-be7028f20053",
   "metadata": {},
   "source": [
    "Contoh Penggunaan:"
   ]
  },
  {
   "cell_type": "code",
   "execution_count": 10,
   "id": "a09c4b93-189b-4165-9bcf-c884c89e3c54",
   "metadata": {},
   "outputs": [
    {
     "name": "stdin",
     "output_type": "stream",
     "text": [
      "ketikan temperatur yang ingin dikonversi, eg. 45F, 120C:  12C\n"
     ]
    },
    {
     "name": "stdout",
     "output_type": "stream",
     "text": [
      "Temperaturnya adalah 54 derajat\n"
     ]
    }
   ],
   "source": [
    "temp = input(\"ketikan temperatur yang ingin dikonversi, eg. 45F, 120C: \")\n",
    "degree = int(temp[:-1])\n",
    "i_convertion = temp[-1]\n",
    "\n",
    "if i_convertion == \"C\":\n",
    "    result = int(round((9 * degree) / 5 + 32))\n",
    "elif i_convertion == \"F\":\n",
    "    result = int(round((degree - 32) * 5 / 9))\n",
    "else:\n",
    "    print(\"Masukkan input yang benar\")\n",
    "print(\"Temperaturnya adalah\", result, \"derajat\")"
   ]
  },
  {
   "cell_type": "raw",
   "id": "a35ef864-038f-4d8a-93ed-6cc0f21fc6a2",
   "metadata": {},
   "source": [
    "while True:\n",
    "    msg = input(\"ketikan karakter: \").lower()\n",
    "    print(msg)\n",
    "    if msg == \"Stop\":\n",
    "        break"
   ]
  }
 ],
 "metadata": {
  "kernelspec": {
   "display_name": "Python 3 (ipykernel)",
   "language": "python",
   "name": "python3"
  },
  "language_info": {
   "codemirror_mode": {
    "name": "ipython",
    "version": 3
   },
   "file_extension": ".py",
   "mimetype": "text/x-python",
   "name": "python",
   "nbconvert_exporter": "python",
   "pygments_lexer": "ipython3",
   "version": "3.11.8"
  }
 },
 "nbformat": 4,
 "nbformat_minor": 5
}
