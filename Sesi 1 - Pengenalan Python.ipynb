{
 "cells": [
  {
   "cell_type": "code",
   "execution_count": 1,
   "id": "1fc7b98a-a690-4087-b7dc-513e9d353196",
   "metadata": {},
   "outputs": [
    {
     "name": "stdout",
     "output_type": "stream",
     "text": [
      "123123123123123123123123123123123123123123123124\n"
     ]
    }
   ],
   "source": [
    "print(123123123123123123123123123123123123123123123123 + 1)"
   ]
  },
  {
   "cell_type": "code",
   "execution_count": 2,
   "id": "a92b2471-c3d6-4c7d-9cab-4ed6bbb74fde",
   "metadata": {},
   "outputs": [
    {
     "name": "stdout",
     "output_type": "stream",
     "text": [
      "10\n",
      "<class 'int'>\n"
     ]
    }
   ],
   "source": [
    "print(10)\n",
    "print(type(10))"
   ]
  },
  {
   "cell_type": "markdown",
   "id": "adc28458-664e-4678-9dbb-50e3a270d171",
   "metadata": {},
   "source": [
    "Floating-Point Numbers \n",
    "\n",
    "Tipe float di python menunjukkan bilangan floating-point. Nilai float ditentukan dengan titik desimal. Secara opsional, karakter e atau E diikuti dengan bilangan bulat positif atau negatif dapat ditambahan untuk menentukan notasi ilmiah:"
   ]
  },
  {
   "cell_type": "code",
   "execution_count": 3,
   "id": "65d74e28-acd6-4099-9a4e-34f477d4308d",
   "metadata": {},
   "outputs": [
    {
     "name": "stdout",
     "output_type": "stream",
     "text": [
      "4.2\n",
      "<class 'float'>\n",
      "4.0\n",
      "0.2\n",
      "4000000.0\n",
      "0.00042\n"
     ]
    }
   ],
   "source": [
    "print(4.2)\n",
    "print(type(4.2))\n",
    "\n",
    "print(4.)\n",
    "\n",
    "print(.2)\n",
    "\n",
    "print(.4e7)\n",
    "\n",
    "print(4.2e-4)"
   ]
  },
  {
   "cell_type": "markdown",
   "id": "181b14b0-9e49-4057-a16e-4719bcacd494",
   "metadata": {},
   "source": [
    "Strings\n",
    "\n",
    "String adalah urutan data karakter. Jenis string dalam Python disebut str.\n",
    "\n",
    "String literals dapat dipisahkan menggunakan tanda kutip tunggal atau ganda. Semua karakter antara pembatas pembukan dan pembatas penutup yang 'match' adalah bagian dari string:"
   ]
  },
  {
   "cell_type": "code",
   "execution_count": 4,
   "id": "4c63760f-6934-45c8-a5c7-b420a16e7ff8",
   "metadata": {},
   "outputs": [
    {
     "name": "stdout",
     "output_type": "stream",
     "text": [
      "Hacktiv8\n",
      "<class 'str'>\n"
     ]
    }
   ],
   "source": [
    "print(\"Hacktiv8\")\n",
    "print(type(\"Hacktiv8\"))"
   ]
  },
  {
   "cell_type": "markdown",
   "id": "451a7ff2-bd17-4038-8822-ac0cb3066e2d",
   "metadata": {},
   "source": [
    "Sebuah string dalam Python dapat berisi karakter sebanyak yang kalian inginkan. Satu-satunya batasan adalah resource memori kalian. String juga boleh kosong:"
   ]
  },
  {
   "cell_type": "code",
   "execution_count": 5,
   "id": "9c0113db-c97d-4adc-b99e-db2bdb334081",
   "metadata": {},
   "outputs": [
    {
     "name": "stdout",
     "output_type": "stream",
     "text": [
      "\n"
     ]
    }
   ],
   "source": [
    "print('')"
   ]
  },
  {
   "cell_type": "code",
   "execution_count": 6,
   "id": "af222d9e-da93-4874-8a51-ffe26ceff336",
   "metadata": {},
   "outputs": [
    {
     "name": "stdout",
     "output_type": "stream",
     "text": [
      "This string contains a single quote (') character.\n",
      "This string contains a double quote ('') character.\n"
     ]
    }
   ],
   "source": [
    "print(\"This string contains a single quote (') character.\")\n",
    "print(\"This string contains a double quote ('') character.\")"
   ]
  },
  {
   "cell_type": "markdown",
   "id": "c5db9fdf-1b06-4b99-8be0-131742568953",
   "metadata": {},
   "source": [
    "Boolean Type, Boolean Context, and :Truthiness\"\n",
    "\n",
    "Python 3 menyediakan tipe data Boolean. Objek tipe Boolean mungkin memiliki salah satu dari dua nilai, True atau False:"
   ]
  },
  {
   "cell_type": "code",
   "execution_count": 7,
   "id": "5f9ddc5b-bc57-40f7-a193-0a944e866bff",
   "metadata": {},
   "outputs": [
    {
     "name": "stdout",
     "output_type": "stream",
     "text": [
      "<class 'bool'>\n",
      "<class 'bool'>\n"
     ]
    }
   ],
   "source": [
    "print(type(True))\n",
    "print(type(False))"
   ]
  },
  {
   "cell_type": "markdown",
   "id": "0c414020-2a4a-4baf-b415-8f6aba43d3b9",
   "metadata": {},
   "source": [
    "Variable Assignment\n",
    "\n",
    "Bayangkan variabel sbg nama yg dilampirkan ke objek tertentu. Di Python, variabel tidak perlu dideklarasikan atu didefinisikan sebelumnya, seperti halnya di banyak bahasa pemrograman lainnya. Untuk membuat variabel, kalian cukup menetapkan nilai dan bisa digunakan. Variable assignment dilakukan dengan satu tanda sama dengan (=): "
   ]
  },
  {
   "cell_type": "code",
   "execution_count": 8,
   "id": "1ff16eed-5fa0-4d78-8903-53c16f457f27",
   "metadata": {},
   "outputs": [],
   "source": [
    "n = 300"
   ]
  },
  {
   "cell_type": "code",
   "execution_count": 9,
   "id": "ec94645f-1fad-49bc-95b2-a9acc5422d5c",
   "metadata": {},
   "outputs": [
    {
     "name": "stdout",
     "output_type": "stream",
     "text": [
      "300\n"
     ]
    }
   ],
   "source": [
    "print(n)"
   ]
  },
  {
   "cell_type": "code",
   "execution_count": 10,
   "id": "f78cb919-16b4-4d9e-9c90-c7bee7269a8e",
   "metadata": {},
   "outputs": [
    {
     "data": {
      "text/plain": [
       "300"
      ]
     },
     "execution_count": 10,
     "metadata": {},
     "output_type": "execute_result"
    }
   ],
   "source": [
    "n"
   ]
  },
  {
   "cell_type": "code",
   "execution_count": 11,
   "id": "5b89c27f-97ba-4a55-a003-75c8c8cd1cda",
   "metadata": {},
   "outputs": [
    {
     "name": "stdout",
     "output_type": "stream",
     "text": [
      "1000\n"
     ]
    },
    {
     "data": {
      "text/plain": [
       "1000"
      ]
     },
     "execution_count": 11,
     "metadata": {},
     "output_type": "execute_result"
    }
   ],
   "source": [
    "# Later, if you change the value of n and use it again, the new value will be substituted instead:\n",
    "\n",
    "n = 1000\n",
    "print(n)\n",
    "\n",
    "n"
   ]
  },
  {
   "cell_type": "code",
   "execution_count": 12,
   "id": "2faf68bd-dc14-4e0c-8630-2dfcf2cd6596",
   "metadata": {},
   "outputs": [
    {
     "name": "stdout",
     "output_type": "stream",
     "text": [
      "300 300 300\n"
     ]
    }
   ],
   "source": [
    "a = b = c = 300\n",
    "print(a, b, c)"
   ]
  },
  {
   "cell_type": "markdown",
   "id": "7dd85c94-0e62-4b68-9706-263919072f28",
   "metadata": {},
   "source": [
    "Variable Types in Python\n",
    "\n",
    "Dalam banyak bahasa pemrograman, variabel diketik secara statis. Artinya, variabel yang dideklarasikan diawal memiliki tipe data tertentu, dan nilai apa pun yang ditetapkan pada variable tersebut selama masa pakainya harus selalu memiliki tipe itu.\n",
    "\n",
    "Variabel dalam Pythin berbeda dengan batasan ini. Di Python, variabel dpt diberi value dari satu jenis yang berbeda:"
   ]
  },
  {
   "cell_type": "code",
   "execution_count": 13,
   "id": "d89eb137-bfad-4bf9-956c-d6b357a0fd97",
   "metadata": {},
   "outputs": [
    {
     "name": "stdout",
     "output_type": "stream",
     "text": [
      "23.5\n",
      "Now I'm a string\n"
     ]
    }
   ],
   "source": [
    "var = 23.5\n",
    "print(var)\n",
    "\n",
    "var = \"Now I'm a string\"\n",
    "print(var)"
   ]
  },
  {
   "cell_type": "markdown",
   "id": "bdc5add5-277a-4e36-9046-b9281331a95d",
   "metadata": {},
   "source": [
    "Variable Names\n",
    "\n",
    "Secara resmi, nama variabel di Python bisa berapa pun panjangnya dan bisa terdiri dari huruf besar dan huruf kecil (A-Z, a-z), digit (0-9), dan karakter garis bawah(_). Batasan tambahan adalah bahwa, meskipun nama variabel dpt berisi angka, karakter pertama dari nama variabel tidak boleh berupa digit."
   ]
  },
  {
   "cell_type": "code",
   "execution_count": 14,
   "id": "fff8f56f-e47e-433c-873c-77d40f0b5b48",
   "metadata": {},
   "outputs": [
    {
     "name": "stdout",
     "output_type": "stream",
     "text": [
      "Hacktiv8 54 True\n"
     ]
    }
   ],
   "source": [
    "name = \"Hacktiv8\"\n",
    "Age = 54\n",
    "has_laptops = True\n",
    "print(name, Age, has_laptops)"
   ]
  },
  {
   "cell_type": "markdown",
   "id": "4dc8e8ad-dee6-4a02-915a-2f4bc46b9581",
   "metadata": {},
   "source": [
    "Nama variabel tidak boleh dimulai dengan angka:"
   ]
  },
  {
   "cell_type": "code",
   "execution_count": 15,
   "id": "b4a377da-0591-4aa3-bcb6-e2b573cde0af",
   "metadata": {},
   "outputs": [
    {
     "ename": "SyntaxError",
     "evalue": "invalid decimal literal (687628429.py, line 1)",
     "output_type": "error",
     "traceback": [
      "\u001b[1;36m  Cell \u001b[1;32mIn[15], line 1\u001b[1;36m\u001b[0m\n\u001b[1;33m    9_kepala_naga = True\u001b[0m\n\u001b[1;37m     ^\u001b[0m\n\u001b[1;31mSyntaxError\u001b[0m\u001b[1;31m:\u001b[0m invalid decimal literal\n"
     ]
    }
   ],
   "source": [
    "9_kepala_naga = True"
   ]
  },
  {
   "cell_type": "markdown",
   "id": "83512d34-188a-4120-ba53-91fadffea08a",
   "metadata": {},
   "source": [
    "Perhatikan bahwa case disini sangat berperan. Huruf kecil dan huruf besar tidak sama. Penggunaan karakter baris bawah juga penting. Masing-masing dan berikut ini mendefinisikan variabel yang berbeda:"
   ]
  },
  {
   "cell_type": "code",
   "execution_count": 16,
   "id": "5a0275f5-bc59-4291-8261-2d0e70ddfc6f",
   "metadata": {},
   "outputs": [
    {
     "name": "stdout",
     "output_type": "stream",
     "text": [
      "1 2 3 4 5 6 8\n"
     ]
    }
   ],
   "source": [
    "age = 1\n",
    "Age = 2\n",
    "aGe = 3\n",
    "AGE = 4\n",
    "a_g_e = 5\n",
    "_age = 6\n",
    "age_ = 7\n",
    "_AGE_ = 8\n",
    "\n",
    "print(age, Age, aGe, AGE, a_g_e, _age, _AGE_)"
   ]
  },
  {
   "cell_type": "markdown",
   "id": "e1383a8b-e928-4ce7-a0f6-e0872680524d",
   "metadata": {},
   "source": [
    "Disisi lain, belum tentu semuanya dpt terbaca. Penamaan vaiabel adalah masalah peferensi pribadi, tetapi kebanyakan orang akan menganggap dua contoh pertama, dimana semua huruf disatukan, lebih sulit untuk dibaca, terutama yang menggunakan huruf kapital semua. Metode yang paling umum digunakan utuk membuat nama variabel multi-kata adalah tiga contoh dibawah ini:\n",
    "\n",
    "• Camel case: Second and subsquent words are capitalized, to make word boundaries\n",
    "  easier to see. (Preusumably, it struck someone at some point that the capital letters\n",
    "  strewn throughout the variable bane vaguely resemble camel humps.)\n",
    "  Example: numberOfCollegeGraduates\n",
    "  \n",
    "• Pascal case: identical to Came Case, except the first word is also capitalized.\n",
    "  Example: NumberOfCollegeGraduates\n",
    "\n",
    "• Snake case: Words are seperated by underscores.\n",
    "  Example: number_of_college_graduates\n",
    "\n",
    "Gunakan salah satu dari ketiganya yang paling menarik secara visuall bagi kalian. Pilih satu dan gunakan secara konsisten.\n",
    "\n",
    "Operators and Expressions in Python\n",
    "\n",
    "Di Python, operators adalah simbol khusus yang menunjukan bahwa suatu jenis komputasi harus dilakukan. Nilai yang ditindaklanjuti oleh operators disebut operands.\n",
    "\n",
    "Berikut ini contohnya:"
   ]
  },
  {
   "cell_type": "code",
   "execution_count": 17,
   "id": "de124593-de4c-4370-95f3-8ffa1c430135",
   "metadata": {},
   "outputs": [
    {
     "data": {
      "text/plain": [
       "30"
      ]
     },
     "execution_count": 17,
     "metadata": {},
     "output_type": "execute_result"
    }
   ],
   "source": [
    "a = 10\n",
    "b = 20\n",
    "a + b"
   ]
  },
  {
   "cell_type": "markdown",
   "id": "94c67886-c5eb-4dbc-ae8d-3fc24c49b66e",
   "metadata": {},
   "source": [
    "Dalam kasus ini, operators + menjumlahkan operands a dan b. Operands dapat berupa nilai literal atau variable yang mereferensikan objek:"
   ]
  },
  {
   "cell_type": "code",
   "execution_count": 18,
   "id": "3084bd2b-ba9b-461a-a44d-96aa78fc11aa",
   "metadata": {},
   "outputs": [
    {
     "data": {
      "text/plain": [
       "25"
      ]
     },
     "execution_count": 18,
     "metadata": {},
     "output_type": "execute_result"
    }
   ],
   "source": [
    "a = 10\n",
    "b = 20\n",
    "a + b -5"
   ]
  },
  {
   "cell_type": "raw",
   "id": "855520e4-0b1a-4d31-9849-1201c7316fa0",
   "metadata": {},
   "source": [
    "Urutan operan dam operator, seperti a + b - 5, disebut expression. Python mendukung banyak operator untuk menggabungkan objek data menjadi expression."
   ]
  },
  {
   "cell_type": "markdown",
   "id": "313a63dc-22ab-4698-8d95-2115bfd6df29",
   "metadata": {},
   "source": [
    "Arithmatic Operators"
   ]
  },
  {
   "cell_type": "code",
   "execution_count": 19,
   "id": "84647ee1-c91d-4eb1-8430-0059ee4ea914",
   "metadata": {},
   "outputs": [
    {
     "name": "stdout",
     "output_type": "stream",
     "text": [
      "7\n",
      "1\n",
      "12\n",
      "1.3333333333333333\n",
      "1\n",
      "64\n"
     ]
    }
   ],
   "source": [
    "# Here are some examples of these operators in use:\n",
    "\n",
    "a = 4\n",
    "b = 3\n",
    "\n",
    "print(a + b)\n",
    "print(a - b)\n",
    "print(a * b)\n",
    "print(a / b)\n",
    "print(a % b) # % = modulus adalah sebuah operasi yang menghasilkan sisa pembagian dari suatu bilangan terhadap bilangan lainnya\n",
    "print(a ** b) #pangkat dua atau Exponentiation"
   ]
  },
  {
   "cell_type": "code",
   "execution_count": 20,
   "id": "b3426f1d-d4cf-4ae1-bec6-3fe5b6dffdcf",
   "metadata": {},
   "outputs": [
    {
     "data": {
      "text/plain": [
       "2.0"
      ]
     },
     "execution_count": 20,
     "metadata": {},
     "output_type": "execute_result"
    }
   ],
   "source": [
    "# The result of standard division (/) is always a float, even if the dividend is evenly divisible by the divisor:\n",
    "\n",
    "10 / 5"
   ]
  },
  {
   "cell_type": "markdown",
   "id": "5e36f4bd-3696-49d3-aee9-377381c90914",
   "metadata": {},
   "source": [
    "Comparison Operators"
   ]
  },
  {
   "cell_type": "code",
   "execution_count": 21,
   "id": "714978a0-f573-47df-8028-11fc2ef48f69",
   "metadata": {},
   "outputs": [
    {
     "name": "stdout",
     "output_type": "stream",
     "text": [
      "False\n",
      "True\n",
      "True\n",
      "False\n",
      "True\n",
      "True\n",
      "True\n"
     ]
    }
   ],
   "source": [
    "# Here are examples of the comparison operators in use:\n",
    "\n",
    "a = 10\n",
    "b = 20\n",
    "print(a == b)\n",
    "\n",
    "print(a != b)\n",
    "\n",
    "print(a <= b)\n",
    "\n",
    "print(a >= b)\n",
    "\n",
    "a = 30\n",
    "b = 30\n",
    "print(a == b)\n",
    "\n",
    "print(a <= b)\n",
    "\n",
    "print(a >= b)"
   ]
  },
  {
   "cell_type": "markdown",
   "id": "d89abb19-c3e4-49a1-b3de-65b5cd76c58c",
   "metadata": {},
   "source": [
    "String Manipulation"
   ]
  },
  {
   "cell_type": "code",
   "execution_count": 22,
   "id": "4b3f7856-ae7d-40a4-8609-d84bfe53a8ed",
   "metadata": {},
   "outputs": [
    {
     "name": "stdout",
     "output_type": "stream",
     "text": [
      "foobar\n",
      "foobarbaz\n",
      "Hacktiv9 PTP\n"
     ]
    }
   ],
   "source": [
    "# + Operators\n",
    "s = 'foo'\n",
    "t = 'bar'\n",
    "u = 'baz'\n",
    "\n",
    "print(s + t)\n",
    "\n",
    "print (s + t + u)\n",
    "\n",
    "print('Hacktiv9 ' + 'PTP')"
   ]
  },
  {
   "cell_type": "code",
   "execution_count": 23,
   "id": "52dad1db-1de8-4cfa-8623-0867526b03df",
   "metadata": {},
   "outputs": [
    {
     "data": {
      "text/plain": [
       "'foofoofoofoo'"
      ]
     },
     "execution_count": 23,
     "metadata": {},
     "output_type": "execute_result"
    }
   ],
   "source": [
    "# * Operators\n",
    "\n",
    "S = 'foo.'\n",
    "\n",
    "s * 4"
   ]
  },
  {
   "cell_type": "code",
   "execution_count": 24,
   "id": "3ae19793-e66f-4317-a579-c0ad66627538",
   "metadata": {},
   "outputs": [
    {
     "name": "stdout",
     "output_type": "stream",
     "text": [
      "True\n",
      "False\n"
     ]
    }
   ],
   "source": [
    "# in Operators\n",
    "\n",
    "s = 'foo'\n",
    "\n",
    "print(s in 'That food forr us')\n",
    "\n",
    "print(s in 'That goof for us')"
   ]
  },
  {
   "cell_type": "code",
   "execution_count": 25,
   "id": "101454d9-ff75-4e61-9042-17b7df8dc68c",
   "metadata": {},
   "outputs": [
    {
     "name": "stdout",
     "output_type": "stream",
     "text": [
      "Hacktiv8\n",
      "hacktiv8\n",
      "hACKtiv8\n",
      "Hacktiv8\n",
      "HACKTIV8\n"
     ]
    }
   ],
   "source": [
    "# Case conversion\n",
    "s = 'HackTIV8'\n",
    "\n",
    "# Capitalize\n",
    "print(s.capitalize())\n",
    "\n",
    "# Lower\n",
    "print(s.lower())\n",
    "\n",
    "#Swapcase\n",
    "print(s.swapcase())\n",
    "\n",
    "# Title\n",
    "print(s.title())\n",
    "\n",
    "# Uppercase\n",
    "print(s.upper())"
   ]
  },
  {
   "cell_type": "markdown",
   "id": "5c331515-9fb1-4a05-9626-e86601cac0f2",
   "metadata": {},
   "source": [
    "Python Lists\n",
    "\n",
    "Singkatnya, lis adalah kumpulan objek yang arbitary, agak mirip dengan array dalam banyak bahasa pemrograman lain tetapi lebih fleksibel. List didefinisikan dalam python dengan menyertakan sequence object yang dipisahkan dengan koma dalam tanda kurung siku([]), seperti yg ditunjukkan dibawah ini: "
   ]
  },
  {
   "cell_type": "code",
   "execution_count": 26,
   "id": "4125f7f7-8526-441b-9442-8dc286934822",
   "metadata": {},
   "outputs": [
    {
     "name": "stdout",
     "output_type": "stream",
     "text": [
      "['foo', 'bar', 'baz', 'qux']\n"
     ]
    }
   ],
   "source": [
    "a = ['foo', 'bar', 'baz', 'qux']\n",
    "\n",
    "print(a)"
   ]
  },
  {
   "cell_type": "markdown",
   "id": "286526ce-d36d-4830-bbad-072b3c89a370",
   "metadata": {},
   "source": [
    "Karakteristik penting dari List Python adalah sbb:\n",
    "\n",
    "• Lists are ordered.\n",
    "• Lists can contain any arbitary objects.\n",
    "• Lists elements can be accessed by index.\n",
    "• Lists can be nested to arbitary depth.\n",
    "• Lists are mutable.\n",
    "• Lists are dynamic."
   ]
  },
  {
   "cell_type": "markdown",
   "id": "08cbe631-1bb7-4bfe-81dc-913cafdb5859",
   "metadata": {},
   "source": [
    "Lists Are Ordered\n",
    "\n",
    "List bukan hanya kumpulan object. List adalah kumpulan dari object yang berurutan. Urutan elemen ketika kalian membuat list akan bertahan selama list tersebut ada.\n",
    "\n",
    "List yang memiliki elemen yang sama dalam urutan yang berbeda, tidak sama:"
   ]
  },
  {
   "cell_type": "code",
   "execution_count": 27,
   "id": "fa9e5ced-d174-4e47-a426-58601875aee3",
   "metadata": {},
   "outputs": [
    {
     "data": {
      "text/plain": [
       "False"
      ]
     },
     "execution_count": 27,
     "metadata": {},
     "output_type": "execute_result"
    }
   ],
   "source": [
    "a = ['foo', 'bar', 'baz', 'qux']\n",
    "b = ['baz', 'qux', 'bar', 'foo']\n",
    "\n",
    "a == b"
   ]
  },
  {
   "cell_type": "markdown",
   "id": "04c50459-a3ce-4a52-b830-7a6ee7f39e0d",
   "metadata": {},
   "source": [
    "Lists Can Contain Arbitary Objects\n",
    "\n",
    "Sebuah List dpt berisi bermacam-macam objek. Element dari list semuanya bisa berjenis sama:"
   ]
  },
  {
   "cell_type": "code",
   "execution_count": 28,
   "id": "03f9f07f-6959-4fbd-a325-c74e5cc6db7a",
   "metadata": {},
   "outputs": [
    {
     "name": "stdout",
     "output_type": "stream",
     "text": [
      "[21.42, 'foobar', 3, 4, 'bark', False, 3.14159]\n"
     ]
    }
   ],
   "source": [
    "a = [21.42, 'foobar', 3, 4, 'bark', False, 3.14159]\n",
    "\n",
    "print(a)"
   ]
  },
  {
   "cell_type": "markdown",
   "id": "e6d86810-ae8f-4027-a418-09e1b0e85cd9",
   "metadata": {},
   "source": [
    "List Elements Can Be Accessed by Index\n",
    "\n",
    "Elemen individual dalam list dpt diakses menggunakan indeks dalam tanda kurung siku. Ini sama persis dengan mengakses karakter individu dalam sebuah string. Pengindeksan List berbasis nol seperti halnya dengan string.\n",
    "\n",
    "Perhatikan List berikut ini:"
   ]
  },
  {
   "cell_type": "code",
   "execution_count": 29,
   "id": "707afce9-4cbb-4a43-9216-321e5b600903",
   "metadata": {},
   "outputs": [],
   "source": [
    "a = ['foo', 'bar', 'baz', 'qux', 'quux', 'corge']"
   ]
  },
  {
   "cell_type": "code",
   "execution_count": 30,
   "id": "547d516e-b087-40b5-9c8f-91d9d722978f",
   "metadata": {},
   "outputs": [
    {
     "name": "stdout",
     "output_type": "stream",
     "text": [
      "foo\n",
      "corge\n"
     ]
    }
   ],
   "source": [
    "print(a[0])\n",
    "print(a[5])"
   ]
  },
  {
   "cell_type": "markdown",
   "id": "b70787e1-55bc-4500-906f-b63aa697a63e",
   "metadata": {},
   "source": [
    "Hampir semua hal tentang pengindeksan string berfungsi serupa untuk list. Misalnya, indeks list negatif dihitung dari akhir list:"
   ]
  },
  {
   "cell_type": "code",
   "execution_count": 31,
   "id": "7933cac6-01d7-44e3-8976-4f8a2723b6ad",
   "metadata": {},
   "outputs": [
    {
     "name": "stdout",
     "output_type": "stream",
     "text": [
      "corge\n",
      "foo\n"
     ]
    }
   ],
   "source": [
    "print(a[-1])\n",
    "print(a[-6])"
   ]
  },
  {
   "cell_type": "markdown",
   "id": "038a62b7-733c-4101-a616-d37a85d39c79",
   "metadata": {},
   "source": [
    "Slicing juga bisa digunakan. Jika a adalah list, ekspresi a[m:n] mengembalikan porsi a dari indeks m ke n, tetapi tidak termasuk, indeks n:"
   ]
  },
  {
   "cell_type": "code",
   "execution_count": 32,
   "id": "ffba3f14-627a-4ecf-baf6-ae767d8f8b3e",
   "metadata": {},
   "outputs": [
    {
     "data": {
      "text/plain": [
       "['baz', 'qux', 'quux']"
      ]
     },
     "execution_count": 32,
     "metadata": {},
     "output_type": "execute_result"
    }
   ],
   "source": [
    "a = ['foo', 'bar', 'baz', 'qux', 'quux', 'corge']\n",
    "\n",
    "a[2:5]"
   ]
  },
  {
   "cell_type": "code",
   "execution_count": 33,
   "id": "0a1eed3c-e5c6-46fe-97af-ba257598491e",
   "metadata": {},
   "outputs": [
    {
     "name": "stdout",
     "output_type": "stream",
     "text": [
      "['foo', 'bar', 'baz', 'qux', 'quux', 'corge']\n",
      "['foo', 'bar', 'baz', 'qux', 'quux', 'corge', 'grault', 'garply']\n",
      "['foo', 'bar', 'baz', 'qux', 'quux', 'corge', 'foo', 'bar', 'baz', 'qux', 'quux', 'corge']\n"
     ]
    }
   ],
   "source": [
    "# The concatenation (+) and replication (*) operators:\n",
    "\n",
    "print(a)\n",
    "\n",
    "print(a + ['grault', 'garply'])\n",
    "print(a * 2)"
   ]
  },
  {
   "cell_type": "code",
   "execution_count": 34,
   "id": "f2b12c24-80f3-4440-ae5e-26900de71614",
   "metadata": {},
   "outputs": [
    {
     "name": "stdout",
     "output_type": "stream",
     "text": [
      "['foo', 'bar', 'baz', 'qux', 'quux', 'corge']\n",
      "6\n",
      "bar\n",
      "qux\n"
     ]
    }
   ],
   "source": [
    "# len(), min(), max()\n",
    "\n",
    "print(a)\n",
    "\n",
    "print(len(a))\n",
    "print(min(a))\n",
    "print(max(a))"
   ]
  },
  {
   "cell_type": "markdown",
   "id": "c460c98b-0a22-4a79-b35e-3f570638763e",
   "metadata": {},
   "source": [
    "Modifying a Single List Value\n",
    "\n",
    "Satu nilai dalam list dapat diganti dengan pengindeksan dan assignment sederhana:"
   ]
  },
  {
   "cell_type": "code",
   "execution_count": 35,
   "id": "32e15369-9914-4580-9e2d-210ee7bfb2bc",
   "metadata": {},
   "outputs": [
    {
     "name": "stdout",
     "output_type": "stream",
     "text": [
      "['foo', 'bar', 'baz', 'qux', 'quux', 'corge']\n",
      "['foo', 'bar', 10, 'qux', 'quux', 20]\n"
     ]
    }
   ],
   "source": [
    "a = ['foo', 'bar', 'baz', 'qux', 'quux', 'corge']\n",
    "\n",
    "print(a)\n",
    "\n",
    "a[2] = 10\n",
    "a[-1] = 20\n",
    "\n",
    "print(a)"
   ]
  },
  {
   "cell_type": "code",
   "execution_count": 36,
   "id": "c0f56f8d-6c6a-4d03-9200-29d3ea5eeb0e",
   "metadata": {},
   "outputs": [],
   "source": [
    "# A list of item can be deleted with the del command:\n",
    "\n",
    "del a[3]"
   ]
  },
  {
   "cell_type": "code",
   "execution_count": 37,
   "id": "07a54e59-9b08-4a39-9304-1a680afd7efc",
   "metadata": {},
   "outputs": [
    {
     "name": "stdout",
     "output_type": "stream",
     "text": [
      "['foo', 'bar', 10, 'quux', 20]\n"
     ]
    }
   ],
   "source": [
    "print(a)"
   ]
  },
  {
   "cell_type": "markdown",
   "id": "99dc03a4-bb1f-4846-ba1e-69411b440822",
   "metadata": {},
   "source": [
    "Modifying Multiple List Values\n",
    "\n",
    "Bagaimana jika kalian ingin mengubah beberapa elemen yang bersebelahan dalam list sekaligus? Python memungkinkan hal inni dengan slice, yang memiliki sintaks berikut:"
   ]
  },
  {
   "cell_type": "code",
   "execution_count": 38,
   "id": "3329bf59-9111-4f32-9a8e-ab4e0a59a0bf",
   "metadata": {},
   "outputs": [
    {
     "name": "stdout",
     "output_type": "stream",
     "text": [
      "['bar', 'baz', 'qux']\n",
      "['foo', 1.1, 2.2, 3.3, 4.4, 5.5, 'quux', 'corge']\n"
     ]
    }
   ],
   "source": [
    "a = ['foo', 'bar', 'baz', 'qux', 'quux', 'corge']\n",
    "\n",
    "print(a[1:4])\n",
    "\n",
    "a[1:4] = [1.1, 2.2, 3.3, 4.4, 5.5]\n",
    "\n",
    "print(a)"
   ]
  },
  {
   "cell_type": "markdown",
   "id": "6ad8c16e-bc5a-43da-aa19-5cbf9fa99877",
   "metadata": {},
   "source": [
    "Python Tuples\n",
    "\n",
    "Python menyediakan tipe lain dari kumpula objek yang berurutan, disebut tuple.\n",
    "\n",
    "Defining and Using Tuples\n",
    "\n",
    "Tuples identik dengan list dalam segala hal, kecuali untuk properti berikut:\n",
    "\n",
    "Tuples didefinisikan dengan mengapit elemen dalam tanda kurung (()) daripada tanda kurung siku([]).\n",
    "Tuples tidak bisa diubah. Berikut adalah conto singkat yang menunjukkan pendeklarasian tuple, pengindeksan, dan slicing:"
   ]
  },
  {
   "cell_type": "code",
   "execution_count": 39,
   "id": "8dfa1740-8f78-45bb-9a17-97be2cc1984c",
   "metadata": {},
   "outputs": [
    {
     "name": "stdout",
     "output_type": "stream",
     "text": [
      "('foo', 'bar', 'baz', 'qux', 'quux', 'corge')\n"
     ]
    }
   ],
   "source": [
    "t = ('foo', 'bar', 'baz', 'qux', 'quux', 'corge')\n",
    "\n",
    "print(t)\n"
   ]
  },
  {
   "cell_type": "code",
   "execution_count": 40,
   "id": "b8d8a983-5e92-46f8-a2c4-045d60f3b48d",
   "metadata": {},
   "outputs": [
    {
     "name": "stdout",
     "output_type": "stream",
     "text": [
      "foo\n",
      "corge\n"
     ]
    }
   ],
   "source": [
    "print(t[0])\n",
    "\n",
    "print(t[-1])"
   ]
  },
  {
   "cell_type": "code",
   "execution_count": 41,
   "id": "1d673b2a-8e66-4535-8a35-81e210403ae0",
   "metadata": {},
   "outputs": [
    {
     "data": {
      "text/plain": [
       "'foo'"
      ]
     },
     "execution_count": 41,
     "metadata": {},
     "output_type": "execute_result"
    }
   ],
   "source": [
    "# Packing and unpacking\n",
    "\n",
    "(S1, S2, S3, S4) = ('foo', 'bar', 'baz', 'qux')\n",
    "\n",
    "S1"
   ]
  },
  {
   "cell_type": "markdown",
   "id": "28095c5e-8728-4185-b9ba-38c2adbee5d1",
   "metadata": {},
   "source": [
    "Python Dictionary"
   ]
  },
  {
   "cell_type": "markdown",
   "id": "a52f0638-ed4b-47d8-895c-e861485ef3d6",
   "metadata": {},
   "source": [
    "Dictionaries and lists share the following characteristics:\n",
    "\n",
    "    • Both are mutable\n",
    "    • Both are dynamic. They can grow and shrink as needed.\n",
    "    • Both can be nested. A list can contain another list. A dictionary can contain another dictioanry.\n",
    "      A dictionary can also contain a list, and vice versa.\n",
    "\n",
    "Dictionaries differ from lists primarily in how elements are accessed:\n",
    "\n",
    "    • List elements are accessed by their position in the list, via indexing.\n",
    "    • Dictionary elements are accessed via keys.\n",
    "\n",
    "Defining a Dictionary\n",
    "\n",
    "Dictionaries adalah implementasi Python dari struktur data yang lebih dikenal sbg associative array.\n",
    "Dictionaries terdiri dari key-value pairs. Setiap Key-value pairs memetakan key ke value yang terkait.\n",
    "\n",
    "Kalian bisa mendefinisikan Dictionaries dengan mengapit daftar key-value pairs yang dipisahkan koma dalam tanda kurung kurawal ({}). \n",
    "Titik dua(:) memisahkan setiap kunci dari nilai yang terkait."
   ]
  },
  {
   "cell_type": "code",
   "execution_count": 42,
   "id": "3eb0e27d-a603-41b4-a1d1-081e50eeee91",
   "metadata": {},
   "outputs": [],
   "source": [
    "MLB_team = {\n",
    "    'Colorado': 'Rockies',\n",
    "    'Boston': 'Red Sox',\n",
    "    'Minnesota': 'Twins',\n",
    "    'Milwaukee': 'Brewers',\n",
    "    'Seattle': 'Mariners'\n",
    "}"
   ]
  },
  {
   "cell_type": "markdown",
   "id": "f7e6ba05-fead-4192-8660-dcb08a3de151",
   "metadata": {},
   "source": [
    "Accessing Dictionary Values\n",
    "\n",
    "Sebuah nilai diambil dari dictionary dengan menentukan kunci yang sesuai dalam tanda kurung siku {[]}:"
   ]
  },
  {
   "cell_type": "code",
   "execution_count": 43,
   "id": "01772e74-d442-4c24-a4f6-4918654d1954",
   "metadata": {},
   "outputs": [
    {
     "name": "stdout",
     "output_type": "stream",
     "text": [
      "Twins\n",
      "Rockies\n"
     ]
    }
   ],
   "source": [
    "print(MLB_team['Minnesota'])\n",
    "print(MLB_team['Colorado'])\n",
    "\n",
    "# error\n",
    "# MLB_team['Toronto']"
   ]
  },
  {
   "cell_type": "code",
   "execution_count": 44,
   "id": "080f94ad-0fd7-4208-ad7d-03ef5b848b5f",
   "metadata": {},
   "outputs": [
    {
     "data": {
      "text/plain": [
       "{'Colorado': 'Rockies',\n",
       " 'Boston': 'Red Sox',\n",
       " 'Minnesota': 'Twins',\n",
       " 'Milwaukee': 'Brewers',\n",
       " 'Seattle': 'Mariners',\n",
       " 'Kansas City': 'Royals'}"
      ]
     },
     "execution_count": 44,
     "metadata": {},
     "output_type": "execute_result"
    }
   ],
   "source": [
    "#Adding an entry to an ecisting ductionary is simply a matter of assigning a new key and value:\n",
    "\n",
    "MLB_team['Kansas City'] = 'Royals'\n",
    "MLB_team"
   ]
  },
  {
   "cell_type": "code",
   "execution_count": 45,
   "id": "3e890deb-0b67-492a-90bf-3fc6038da1fe",
   "metadata": {},
   "outputs": [
    {
     "data": {
      "text/plain": [
       "{'Colorado': 'Rockies',\n",
       " 'Boston': 'Red Sox',\n",
       " 'Minnesota': 'Twins',\n",
       " 'Milwaukee': 'Brewers',\n",
       " 'Seattle': 'Seahawks',\n",
       " 'Kansas City': 'Royals'}"
      ]
     },
     "execution_count": 45,
     "metadata": {},
     "output_type": "execute_result"
    }
   ],
   "source": [
    "# If you want to update an entry, you can just assign a new value to an existing key:\n",
    "\n",
    "MLB_team['Seattle'] = 'Seahawks'\n",
    "MLB_team"
   ]
  },
  {
   "cell_type": "markdown",
   "id": "fa12c81e-f499-428a-8274-d05a1bab0033",
   "metadata": {},
   "source": [
    "Building a Dictionary Incrementally\n",
    "\n",
    "Mendefinisikan dictionary menggunakan tanda kurung kurawal dan key-value pairs, seperti yang ditunjukkan diatas, tidak masalah jika kalian mengetahui semua kunci dan nilai sebelumnya. Tetapi bagaimana jika kalian ingin membuat dictionary sambil jalan?\n",
    "\n",
    "Kalian bisa mulai dengan membuat dictionary kosong, yang ditentukan dengan tanda kurung kurawa kosong. Kemudian kalian dapat menambahkan kunci dan nilai baru satu per satu:"
   ]
  },
  {
   "cell_type": "code",
   "execution_count": 46,
   "id": "6104d76b-5df1-4a48-8124-cbf1eccb0829",
   "metadata": {},
   "outputs": [],
   "source": [
    "person = {}\n",
    "type(person)\n",
    "\n",
    "person['fname'] = 'Hack'\n",
    "person['lname'] = 'PTP'\n",
    "person['age'] = 51\n",
    "person['spouse'] = 'Edna'\n",
    "person['children'] = ['Ralph', 'Betty', 'Joey']\n",
    "person['pets'] = {'dog': 'fido', 'cat': 'Sox'}"
   ]
  },
  {
   "cell_type": "code",
   "execution_count": 47,
   "id": "5ec66294-8b6f-43b4-82de-f7c1cc8ea13e",
   "metadata": {},
   "outputs": [
    {
     "data": {
      "text/plain": [
       "{'fname': 'Hack',\n",
       " 'lname': 'PTP',\n",
       " 'age': 51,\n",
       " 'spouse': 'Edna',\n",
       " 'children': ['Ralph', 'Betty', 'Joey'],\n",
       " 'pets': {'dog': 'fido', 'cat': 'Sox'}}"
      ]
     },
     "execution_count": 47,
     "metadata": {},
     "output_type": "execute_result"
    }
   ],
   "source": [
    "person"
   ]
  },
  {
   "cell_type": "code",
   "execution_count": 48,
   "id": "29247d00-a737-4cea-94b4-24bd3750010d",
   "metadata": {},
   "outputs": [
    {
     "name": "stdout",
     "output_type": "stream",
     "text": [
      "Hack\n",
      "PTP\n"
     ]
    }
   ],
   "source": [
    "print(person['fname'])\n",
    "print(person['lname'])"
   ]
  },
  {
   "cell_type": "code",
   "execution_count": 49,
   "id": "d02a1089-e361-45fc-84c8-503aaa198b8d",
   "metadata": {},
   "outputs": [
    {
     "name": "stdout",
     "output_type": "stream",
     "text": [
      "['Ralph', 'Betty', 'Joey']\n",
      "Betty\n"
     ]
    }
   ],
   "source": [
    "print(person['children'])\n",
    "print(person['children'][1])"
   ]
  },
  {
   "cell_type": "code",
   "execution_count": 50,
   "id": "b35bedc9-7248-4f0f-8ae9-ae673e17967c",
   "metadata": {},
   "outputs": [
    {
     "name": "stdout",
     "output_type": "stream",
     "text": [
      "{'dog': 'fido', 'cat': 'Sox'}\n",
      "Sox\n"
     ]
    }
   ],
   "source": [
    "print(person['pets'])\n",
    "print(person['pets']['cat'])"
   ]
  },
  {
   "cell_type": "code",
   "execution_count": 52,
   "id": "5d33edd7-0ac5-45b8-a784-b52c7954fb70",
   "metadata": {},
   "outputs": [
    {
     "name": "stdout",
     "output_type": "stream",
     "text": [
      "dict_items([('a', 10), ('b', 20), ('c', 30)])\n",
      "dict_keys(['a', 'b', 'c'])\n",
      "dict_values([10, 20, 30])\n"
     ]
    }
   ],
   "source": [
    "# Build-in Methods\n",
    "d = {'a': 10, 'b': 20, 'c': 30}\n",
    "\n",
    "# items\n",
    "print(d.items())\n",
    "# Keys\n",
    "print(d.keys())\n",
    "\n",
    "# values\n",
    "print(d.values())"
   ]
  },
  {
   "cell_type": "markdown",
   "id": "84abad8e-639c-43f5-94fa-adb145b4d842",
   "metadata": {},
   "source": [
    "Line Continuation\n",
    "\n",
    "Misalkan satu pertanyaan dalam kode Python kalian sangat panjang. Misalnya, kalian mungkin memiliki assignment statemen dengan banyak terms:"
   ]
  },
  {
   "cell_type": "code",
   "execution_count": 58,
   "id": "4cd55d65-4bda-4f5f-860c-17ff768f1c0e",
   "metadata": {},
   "outputs": [
    {
     "data": {
      "text/plain": [
       "True"
      ]
     },
     "execution_count": 58,
     "metadata": {},
     "output_type": "execute_result"
    }
   ],
   "source": [
    "person1_age = 42\n",
    "person2_age = 16\n",
    "person3_age = 71\n",
    "\n",
    "someone_is_of_working_age = (person1_age >= 18 and person1_age <= 65) or (person2_age >= 18 and person2_age <= 65) or (person3_age >= 18 and person3_age <= 65)\n",
    "someone_is_of_working_age"
   ]
  },
  {
   "cell_type": "code",
   "execution_count": 59,
   "id": "ce3d7dca-27d0-4509-82c7-fc8702ea5ae3",
   "metadata": {},
   "outputs": [
    {
     "data": {
      "text/plain": [
       "True"
      ]
     },
     "execution_count": 59,
     "metadata": {},
     "output_type": "execute_result"
    }
   ],
   "source": [
    "someone_is_of_working_age = (\n",
    "    (person1_age >= 18 and person1_age <= 65)\n",
    "    or (person2_age >= 18 and person2_age <= 65)\n",
    "    or (person3_age >= 18 and person3_age <= 65)\n",
    ")\n",
    "someone_is_of_working_age\n"
   ]
  },
  {
   "cell_type": "code",
   "execution_count": null,
   "id": "82066f0d-fdda-4a89-9380-e327e4fd3c47",
   "metadata": {},
   "outputs": [],
   "source": []
  }
 ],
 "metadata": {
  "kernelspec": {
   "display_name": "Python 3 (ipykernel)",
   "language": "python",
   "name": "python3"
  },
  "language_info": {
   "codemirror_mode": {
    "name": "ipython",
    "version": 3
   },
   "file_extension": ".py",
   "mimetype": "text/x-python",
   "name": "python",
   "nbconvert_exporter": "python",
   "pygments_lexer": "ipython3",
   "version": "3.11.7"
  }
 },
 "nbformat": 4,
 "nbformat_minor": 5
}
